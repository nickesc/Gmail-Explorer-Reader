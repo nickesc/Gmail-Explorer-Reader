{
 "cells": [
  {
   "cell_type": "markdown",
   "id": "6b387bed",
   "metadata": {},
   "source": [
    "# Data Visualisation Project p. 1: Gmail Explorer Reader"
   ]
  },
  {
   "cell_type": "markdown",
   "id": "8898b192",
   "metadata": {},
   "source": [
    "###### By [nickesc](https://github.com/nickesc)/[N. Escobar](https://nickesc.com)"
   ]
  },
  {
   "cell_type": "markdown",
   "id": "20f9cb03",
   "metadata": {},
   "source": [
    "### *Project Idea:*\n",
    "\n",
    "*Use the [`Gmail API`](https://developers.google.com/gmail/api/guides) to grab data about every email I've ever recieved over several email addresses, sift through it, and analyze it, visualizing different trends, patterns or interesting points.*"
   ]
  },
  {
   "cell_type": "markdown",
   "id": "727ea6d1",
   "metadata": {},
   "source": [
    "### Setting up the environment:\n",
    "\n",
    "##### *Installing the Google client library (from the [`Gmail API Docs`](https://developers.google.com/gmail/api/guides)):*"
   ]
  },
  {
   "cell_type": "code",
   "execution_count": null,
   "id": "8de29eff",
   "metadata": {
    "scrolled": true
   },
   "outputs": [],
   "source": [
    "!pip install --upgrade --upgrade-strategy=only-if-needed google-api-python-client google-auth-httplib2 google-auth-oauthlib"
   ]
  },
  {
   "cell_type": "markdown",
   "id": "09de4895",
   "metadata": {},
   "source": [
    "##### Installing ipywidgets, scikit-learn and seaborn:"
   ]
  },
  {
   "cell_type": "code",
   "execution_count": null,
   "id": "0ede435e",
   "metadata": {},
   "outputs": [],
   "source": [
    "!pip install --upgrade --upgrade-strategy=only-if-needed ipywidgets\n",
    "!pip install --upgrade --upgrade-strategy=only-if-needed scikit-learn\n",
    "!pip install --upgrade --upgrade-strategy=only-if-needed seaborn"
   ]
  },
  {
   "cell_type": "markdown",
   "id": "be40b543",
   "metadata": {},
   "source": [
    "##### Importing all our packages:"
   ]
  },
  {
   "cell_type": "code",
   "execution_count": null,
   "id": "82b98cb7",
   "metadata": {},
   "outputs": [],
   "source": [
    "from __future__ import print_function\n",
    "\n",
    "import os\n",
    "import csv\n",
    "import base64\n",
    "import pandas as pd\n",
    "import seaborn as sns\n",
    "import numpy as np\n",
    "import sklearn\n",
    "import matplotlib.pyplot as plt\n",
    "\n",
    "\n",
    "from IPython.display import clear_output, display\n",
    "from ipywidgets import *\n",
    "from tkinter import Tk, filedialog\n",
    "from math import floor\n",
    "\n",
    "\n",
    "# GMAIL API\n",
    "from google.auth.transport.requests import Request\n",
    "from google.oauth2.credentials import Credentials\n",
    "from google_auth_oauthlib.flow import InstalledAppFlow\n",
    "from googleapiclient.discovery import build\n",
    "from googleapiclient.errors import HttpError"
   ]
  },
  {
   "cell_type": "markdown",
   "id": "404bf62a",
   "metadata": {},
   "source": [
    "### Reading Inboxes\n",
    "\n",
    "The [`Gmail API`](https://developers.google.com/gmail/api/guides) can be used to return a paginated list of all messages in a user's inbox, however it only returns the message IDs. So, first we need to get all the IDs, then we need to get all the messages with the IDs\n",
    "\n",
    "#### Accessing the account\n",
    "\n",
    "First, the user needs to log in to their gmail account and give it access to read everything. The  [`Gmail API Docs`](https://developers.google.com/gmail/api/guides) list these ase requirements for using the  [`Gmail API`](https://developers.google.com/gmail/api/guides):\n",
    "\n",
    "> 1. [A Google Cloud Platform project with the API enabled.](https://developers.google.com/workspace/guides/create-project)\n",
    "> 2. [Authorization credentials for a desktop application](https://developers.google.com/workspace/guides/create-credentials)\n",
    "> 3. A Google account with Gmail enabled\n",
    ">\n",
    "> I found their resources for setting up the project unhelpful, and found [this Medium Article](https://towardsdatascience.com/extracting-metadata-from-medium-daily-digest-newsletters-via-gmail-api-97eee890a439) by [Sejal Dua](https://sejaldua.medium.com/) much more helpful.\n",
    "\n",
    "The two files we need to communicate with the [`Gmail API`](https://developers.google.com/gmail/api/guides) are `credentials.json` and `token.json`. We get `credentials.json` during our setup from Google Cloud Console, but `token.json` is generated for the current session when we log in. These files are located in the `root` of the notebook, and the notebook assumes it has `credentials.json` unless you upload something.\n",
    "\n",
    "> To load credentials or clear the currrent session token (to use a different account), use these snippets:\n",
    "\n",
    "##### Load credentials:"
   ]
  },
  {
   "cell_type": "code",
   "execution_count": null,
   "id": "18cc51fc",
   "metadata": {
    "code_folding": []
   },
   "outputs": [],
   "source": [
    "def select_files(b):\n",
    "\n",
    "    clear_output()\n",
    "    root = Tk()\n",
    "    root.withdraw() # Hide the main window.\n",
    "    root.call('wm', 'attributes', '.', '-topmost', True) # Raise the root to the top of all windows.\n",
    "    b.files = filedialog.askopenfilenames(title='Open credentials.json',\n",
    "                                        filetypes=[(\"Json File\", \"*.json\")])\n",
    "    print(\"Credentials loaded.\")\n",
    "\n",
    "fileselect = Button(description=\"File select\")\n",
    "fileselect.on_click(select_files)\n",
    "\n",
    "print(\"Upload the credentials.json file from Google Cloud Console\")\n",
    "display(fileselect)"
   ]
  },
  {
   "cell_type": "markdown",
   "id": "dc88f10f",
   "metadata": {},
   "source": [
    "##### Clear session token:"
   ]
  },
  {
   "cell_type": "code",
   "execution_count": null,
   "id": "83863637",
   "metadata": {},
   "outputs": [],
   "source": [
    "def clearToken(b):\n",
    "    clear_output()\n",
    "    if os.path.exists(\"token.json\"):\n",
    "        os.remove(\"token.json\")\n",
    "    print(\"Session token cleared. Please run the next cell to log in.\")\n",
    "    display(clear)\n",
    "\n",
    "\n",
    "clear = Button(description=\"Clear session token\")\n",
    "clear.on_click(clearToken)\n",
    "\n",
    "print(\"Click to clear the current session token.\")\n",
    "display(clear)"
   ]
  },
  {
   "cell_type": "markdown",
   "id": "1bfea27d",
   "metadata": {},
   "source": [
    "##### Signing in\n",
    "\n",
    "Running the next cell will take you to another tab to log in to your Gmail account. It can only be one of the accounts you've added as a test user, so be sure to select the right one."
   ]
  },
  {
   "cell_type": "code",
   "execution_count": null,
   "id": "89d6e6ed",
   "metadata": {},
   "outputs": [],
   "source": [
    "# If modifying these scopes, delete the file token.json.\n",
    "try:\n",
    "    credentials = fileselect.files[0]\n",
    "except:\n",
    "    credentials = 'credentials.json'\n",
    "    print('Loading local credentials.json\\n')\n",
    "SCOPES = ['https://www.googleapis.com/auth/gmail.readonly']\n",
    "creds = None\n",
    "# The file token.json stores the user's access and refresh tokens, and is\n",
    "# created automatically when the authorization flow completes for the first\n",
    "# time.\n",
    "if os.path.exists('token.json'):\n",
    "    creds = Credentials.from_authorized_user_file('token.json', SCOPES)\n",
    "# If there are no (valid) credentials available, let the user log in.\n",
    "if not creds or not creds.valid:\n",
    "    if creds and creds.expired and creds.refresh_token:\n",
    "        creds.refresh(Request())\n",
    "    else:\n",
    "        flow = InstalledAppFlow.from_client_secrets_file(credentials, SCOPES)\n",
    "        creds = flow.run_local_server(port=0)\n",
    "    # Save the credentials for the next run\n",
    "    with open('token.json', 'w') as token:\n",
    "        token.write(creds.to_json())\n",
    "\n",
    "try:\n",
    "    service = build('gmail', 'v1', credentials=creds)\n",
    "    print(\n",
    "        \"\\nSigned in to\",\n",
    "        service.users().getProfile(userId='me').execute()[\"emailAddress\"] +\n",
    "        \"; continue to the next cell.\\n\")\n",
    "except:\n",
    "    print(\n",
    "        \"\\nService error, please retry or throw your hands up in confusion\\n\")"
   ]
  },
  {
   "cell_type": "markdown",
   "id": "0702a284",
   "metadata": {},
   "source": [
    "#### Getting message `id`s\n",
    "\n",
    "To avoid enormous repsonses, the [`Gmail API`](https://developers.google.com/gmail/api/guides) returns paginated responses and lists of `id`s instead of full emails. So the program needs to loop through reponses to get all the `id`s. This actually allowed for a progress update to show how long it was taking (up to a few minutes for larger accounts) when it otherwise didn't look like it was working. It keeps asking for pages until it can't find a `nextPageToken`.\n",
    "\n",
    "> This percent system divides the current number of IDs recieved by the total expected number listed in the user's profile data. It isn't a perfect solution, because deleted emails are collected but not counted towards the profile number, but it works fine to get across how quickly the API is working.\n",
    ">\n",
    "> This was initially written for tracking recieving messages, but it worked so well there that I just dropped the code here with a few tweaks. That code later had to be reworked (because it did not, in fact, work so well), but the original version is still here, because this percentage is just vanity, where as the other is functional as well. "
   ]
  },
  {
   "cell_type": "code",
   "execution_count": null,
   "id": "767ee1d5",
   "metadata": {},
   "outputs": [],
   "source": [
    "def getPage(writer, percents, expected, current, pageToken=None):\n",
    "\n",
    "    try:\n",
    "        # Call the Gmail API\n",
    "\n",
    "        results = service.users().messages().list(\n",
    "            userId='me',\n",
    "            pageToken=pageToken,\n",
    "            maxResults=500,\n",
    "            includeSpamTrash=True).execute()\n",
    "        for pair in results[\"messages\"]:\n",
    "            percent = round((current / expected) * 100)\n",
    "            if percent not in percents:\n",
    "                percents.append(percent)\n",
    "                if percent % 5 == 0:\n",
    "                    print(\"%\" + str(percent) + \" complete...\")\n",
    "            writer.writerow([pair[\"id\"]])\n",
    "            current += 1\n",
    "        if results[\"nextPageToken\"]:\n",
    "            getPage(writer, percents, expected, current,\n",
    "                    results[\"nextPageToken\"])\n",
    "        else:\n",
    "            print(results)\n",
    "\n",
    "    except Exception as e:\n",
    "        # TODO(developer) - Handle errors from gmail API.\n",
    "        print(f'Messages end: no {e}')\n",
    "\n",
    "\n",
    "def cleanCSV(fileName):\n",
    "    clean = open(fileName, \"w\")\n",
    "    writer = csv.writer(clean)\n",
    "    writer.writerow([\"id\"])\n",
    "    clean.close()\n",
    "    print(fileName + \" cleaned.\\n\")\n",
    "\n",
    "\n",
    "def displayHead(fileName):\n",
    "    data = pd.read_csv(fileName)\n",
    "    display(data.head())\n",
    "    print(\"...and \" + str(data.shape[0] - 5) + \" more rows\")\n",
    "\n",
    "\n",
    "def getIDs(name):\n",
    "\n",
    "    profile = service.users().getProfile(userId='me').execute()\n",
    "\n",
    "    percents = []\n",
    "    expected = profile[\"messagesTotal\"]\n",
    "    current = 0\n",
    "\n",
    "    fileName = name + \"IDs.csv\"\n",
    "    cleanCSV(fileName)\n",
    "    print(\"Finding ~\" + str(profile[\"messagesTotal\"]) + \" messages...\")\n",
    "\n",
    "    IDFile = open(fileName, 'a')\n",
    "    writer = csv.writer(IDFile)\n",
    "    getPage(writer, percents, expected, current)\n",
    "    IDFile.close()\n",
    "\n",
    "    messageCount = len(pd.read_csv(fileName))\n",
    "\n",
    "    print(\"Finshed collecting \" + str(messageCount) + \" out of \" +\n",
    "          str(profile[\"messagesTotal\"]) + \" messages from \" +\n",
    "          profile[\"emailAddress\"])\n",
    "    displayHead(fileName)\n",
    "    return fileName"
   ]
  },
  {
   "cell_type": "markdown",
   "id": "07da5297",
   "metadata": {},
   "source": [
    "The specific call we make to the [`Gmail API`](https://developers.google.com/gmail/api/guides) --\n",
    "\n",
    "```python\n",
    "results = service.users().messages().list(userId = 'me', pageToken = pageToken, maxResults = 500, \n",
    "                                          includeSpamTrash = True).execute()\n",
    "```\n",
    "\n",
    "-- grabs a list of the next 500 results, instead of the default 100 (`maxResults = 500`), from the user's inbox, including pulling from usually ignored Spam and Trash folders (`includeSpamTrash = True`).\n",
    "\n",
    "This returns:\n",
    "\n",
    "```json\n",
    "{'messages': [\n",
    "        {\n",
    "            'id': '...', \n",
    "            'threadId': '...'\n",
    "        }, \n",
    "        {\n",
    "            'id': '...', \n",
    "            'threadId': '...'\n",
    "        }...\n",
    "    ]\n",
    "}\n",
    "```\n",
    "\n",
    "Each entry in messages is a different message, with an `id` and a `threadId`. The `id` and `threadId` are usually the same, but when you respond to an email it starts a thread, and the entire thread shares the `threadId` to associate them, while the individual message keeps a unique `id`. Here, all we care about is the `id`, so we add each `id` into a `.csv` and dump the rest of the information.\n",
    "\n",
    "#### Selecting an account and running the program\n",
    "\n",
    "Finally, the program asks the user to choose which prefix to use for the ID file, in case you have multiples accounts and want to make multiple ID files. Account identifiers are based of my own accounts, but have no impact on anything but file name. Running the second cell after this starts collecting IDs using the above functions."
   ]
  },
  {
   "cell_type": "code",
   "execution_count": null,
   "id": "a511b54e",
   "metadata": {},
   "outputs": [],
   "source": [
    "accounts = [\"jg\", \"gd\", \"ne\", \"nm\"]\n",
    "fields = [\n",
    "    'id', 'received', 'delivered-to', 'to', 'from', 'subject', 'labels',\n",
    "    'sizeEstimate', 'threadId', 'internalDate', 'body'\n",
    "]\n",
    "\n",
    "account = widgets.RadioButtons(options=accounts,\n",
    "                               value=accounts[0],\n",
    "                               description='Account')\n",
    "display(account)"
   ]
  },
  {
   "cell_type": "code",
   "execution_count": null,
   "id": "d1d034ea",
   "metadata": {},
   "outputs": [],
   "source": [
    "fileName = getIDs(account.value)"
   ]
  },
  {
   "cell_type": "markdown",
   "id": "6f2c9ff5",
   "metadata": {},
   "source": [
    "#### Converting `id`s to messages\n",
    "\n",
    "Now that we have a list of `id`s, we need to to turn them into messages to tell anything usefull from them. The first part of that is prepping our files, including creating the message output `messages.csv` where all out final data will go, clearing old data, adding headers, and setting up readers and writers for our output `.csv`s.\n",
    "\n",
    ">If `messages.csv` needs to be prepped to do ___the first or a fresh take___, run this snippet for a clean file with a header:\n",
    "\n",
    "##### Clean `messages.csv`"
   ]
  },
  {
   "cell_type": "code",
   "execution_count": null,
   "id": "75fe0379",
   "metadata": {},
   "outputs": [],
   "source": [
    "messageFileName = \"messages.csv\"\n",
    "\n",
    "\n",
    "def cleanMessages(b):\n",
    "    clear_output()\n",
    "    messageFile = open(messageFileName, 'w')\n",
    "    messageWriter = csv.DictWriter(messageFileName, fieldnames=fields)\n",
    "    messageWriter.writeheader()\n",
    "    messageFile.close()\n",
    "    print(messageFileName, \"cleaned.\\n\")\n",
    "    display(clean)\n",
    "\n",
    "\n",
    "clean = Button(description=\"Clean \" + messageFileName)\n",
    "clean.on_click(cleanMessages)\n",
    "\n",
    "print(\"Click to clean\", messageFileName)\n",
    "display(clean)"
   ]
  },
  {
   "cell_type": "code",
   "execution_count": null,
   "id": "c055a498",
   "metadata": {},
   "outputs": [],
   "source": [
    "IDFile = open(fileName, 'r')\n",
    "IDReader = csv.reader(IDFile, delimiter=',')\n",
    "ids = []\n",
    "\n",
    "messageFile = open(messageFileName, 'a')\n",
    "messageWriter = csv.DictWriter(messageFile, fieldnames=fields)\n",
    "\n",
    "profile = service.users().getProfile(userId='me').execute()\n",
    "\n",
    "currPercent = 0\n",
    "\n",
    "for row in IDReader:\n",
    "    ids.append(row[0])\n",
    "ids.pop(0)\n",
    "\n",
    "chunks = 10\n",
    "\n",
    "\n",
    "def splitList(data, chunks):\n",
    "    length = len(data)\n",
    "    n = floor(length / chunks)\n",
    "\n",
    "    for i in range(0, len(data), n):\n",
    "        yield data[i:i + n]\n",
    "\n",
    "\n",
    "ids = list(splitList(ids, chunks))\n",
    "idIndex = 0\n",
    "if len(ids) > chunks:\n",
    "    while len(ids[-1]) != 0:\n",
    "        ids[idIndex].append(ids[-1][0])\n",
    "        ids[-1].pop(0)\n",
    "        if idIndex == chunks - 1:\n",
    "            idIndex = 0\n",
    "        else:\n",
    "            idIndex += 1\n",
    "    ids.pop(-1)\n",
    "\n",
    "print('Files ready. Messages will request in ' + str(len(ids)) +\n",
    "      ' chunks of ~' + str(len(ids[0])))"
   ]
  },
  {
   "cell_type": "markdown",
   "id": "1b084c79",
   "metadata": {},
   "source": [
    "#### Ten-percent of your inbox\n",
    "\n",
    "So we're ready to to ask for all our emails with our big list all at once right? Nope! Unfortunately , with larger inboxes, the notebook times out before it can request all the emails. The solution I found was to split the list of IDs into ten evenly-divided parts, and make ten percent of the calls for the inbox in a cell at a time. \n",
    "\n",
    "> In testing, this allowed enough time for all emails to be requested and received on an inbox with ~37,000 emails.\n",
    "\n",
    "started one after another. Ten-percent at a time allows enough time for all emails (in my testing) to be collected. It makes calls until one-hundred-percent of the messages in the `.csv` are collected. \n",
    "\n",
    "Each message request is made with this call --\n",
    "\n",
    "``` python\n",
    "message = service.users().messages().get(userId = 'me', id = next(IDReader)[0], format = 'full').execute()\n",
    "```\n",
    "\n",
    "-- which asks the [`Gmail API`](https://developers.google.com/gmail/api/guides) to send the full information (`format = 'full'`) for the next `id` in the list (`id = next(IDReader)[0]`)."
   ]
  },
  {
   "cell_type": "code",
   "execution_count": null,
   "id": "1fc67f92",
   "metadata": {
    "code_folding": []
   },
   "outputs": [],
   "source": [
    "def convertLabels(string):\n",
    "    li = list(string.strip('][').split(', '))\n",
    "    i = 0\n",
    "    for x in li:\n",
    "        li[i] = x.strip(\"'\")\n",
    "        i += 1\n",
    "    return li\n",
    "\n",
    "\n",
    "def getMessage(message):\n",
    "\n",
    "    messageResult = {}\n",
    "    try:\n",
    "        content = message['payload']['body']['data']\n",
    "        #msg_body = base64.urlsafe_b64decode(content).decode('utf-8')\n",
    "    except:\n",
    "        content = ''\n",
    "        for part in message['payload']['parts']:\n",
    "            try:\n",
    "                #msg_part = base64.urlsafe_b64decode(part['body']['data']).decode('utf-8')\n",
    "                msg_part = part['body']['data']\n",
    "            except:\n",
    "                msg_part = \"\"\n",
    "            finally:\n",
    "                content = content + msg_part\n",
    "    msg_body = content\n",
    "    #msg_body = base64.urlsafe_b64decode(content).decode('utf-8')\n",
    "\n",
    "    messageResult['threadId'] = message['threadId']\n",
    "    messageResult['id'] = message['id']\n",
    "\n",
    "    rec = False\n",
    "\n",
    "    for header in message['payload']['headers']:\n",
    "        if header['name'] == 'Delivered-To':\n",
    "            messageResult['delivered-to'] = header['value']\n",
    "        if header['name'] == 'To':\n",
    "            messageResult['to'] = header['value']\n",
    "        if header['name'] == 'From':\n",
    "            messageResult['from'] = header['value']\n",
    "        if header['name'] == 'Received' and rec == False:\n",
    "            messageResult['received'] = header['value']\n",
    "            rec = True\n",
    "        if header['name'] == 'Subject':\n",
    "            messageResult['subject'] = header['value']\n",
    "\n",
    "    messageResult['labels'] = convertLabels(message['labelIds'])\n",
    "    messageResult['sizeEstimate'] = message['sizeEstimate']\n",
    "    messageResult['internalDate'] = message['internalDate']\n",
    "    messageResult['body'] = msg_body\n",
    "\n",
    "    return messageResult\n",
    "\n",
    "\n",
    "def tenPercent(ids, percentIndex):\n",
    "\n",
    "    print(\"%\" + str(floor((percentIndex / len(ids)) * 100)) + \" complete...\")\n",
    "\n",
    "    currIds = ids[percentIndex]\n",
    "\n",
    "    messageRepo = []\n",
    "\n",
    "    for ID in currIds:\n",
    "        try:\n",
    "            message = service.users().messages().get(userId='me',\n",
    "                                                     id=ID,\n",
    "                                                     format='full').execute()\n",
    "            messageResult = getMessage(message)\n",
    "            #print(message)\n",
    "            messageRepo.append(messageResult)\n",
    "        except:\n",
    "            print(\"failed to get message\")\n",
    "\n",
    "    messageWriter.writerows(messageRepo)\n",
    "\n",
    "    percentIndex += 1\n",
    "    print(\"%\" + str(floor((percentIndex / len(ids)) * 100)) + \" complete...\")\n",
    "\n",
    "    return (percentIndex)\n",
    "\n",
    "\n",
    "print(\n",
    "    \"Ready to start requesting messages. Run the next 10 cells one-after-another.\\n\"\n",
    "    + \"This will take a long time (hours) for inboxes with a lot of messages.\")"
   ]
  },
  {
   "cell_type": "code",
   "execution_count": null,
   "id": "59197bdd",
   "metadata": {},
   "outputs": [],
   "source": [
    "currPercent = tenPercent(ids,currPercent)"
   ]
  },
  {
   "cell_type": "code",
   "execution_count": null,
   "id": "26815863",
   "metadata": {},
   "outputs": [],
   "source": [
    "currPercent = tenPercent(ids,currPercent)"
   ]
  },
  {
   "cell_type": "code",
   "execution_count": null,
   "id": "eeeca4c7",
   "metadata": {},
   "outputs": [],
   "source": [
    "currPercent = tenPercent(ids,currPercent)"
   ]
  },
  {
   "cell_type": "code",
   "execution_count": null,
   "id": "7f3c94b1",
   "metadata": {},
   "outputs": [],
   "source": [
    "currPercent = tenPercent(ids,currPercent)"
   ]
  },
  {
   "cell_type": "code",
   "execution_count": null,
   "id": "ff7f06b4",
   "metadata": {},
   "outputs": [],
   "source": [
    "currPercent = tenPercent(ids,currPercent)"
   ]
  },
  {
   "cell_type": "code",
   "execution_count": null,
   "id": "7308c38d",
   "metadata": {},
   "outputs": [],
   "source": [
    "currPercent = tenPercent(ids,currPercent)"
   ]
  },
  {
   "cell_type": "code",
   "execution_count": null,
   "id": "00837222",
   "metadata": {},
   "outputs": [],
   "source": [
    "currPercent = tenPercent(ids,currPercent)"
   ]
  },
  {
   "cell_type": "code",
   "execution_count": null,
   "id": "f2b28b43",
   "metadata": {},
   "outputs": [],
   "source": [
    "currPercent = tenPercent(ids,currPercent)"
   ]
  },
  {
   "cell_type": "code",
   "execution_count": null,
   "id": "cf59e3ff",
   "metadata": {},
   "outputs": [],
   "source": [
    "currPercent = tenPercent(ids,currPercent)"
   ]
  },
  {
   "cell_type": "code",
   "execution_count": null,
   "id": "799c42be",
   "metadata": {},
   "outputs": [],
   "source": [
    "currPercent = tenPercent(ids,currPercent)"
   ]
  },
  {
   "cell_type": "markdown",
   "id": "70a1ec78",
   "metadata": {},
   "source": [
    "#### Cleaning the data up\n",
    "\n",
    "This produces a lot of data we don't want, unfortunately. In addition to collecting the information, we make it a little easier to work with by parsing out some of the information ahead of time. The data comes in this form:\n",
    "\n",
    "```json\n",
    "{\n",
    "    \"internalDate\": \"...\", \n",
    "    \"historyId\": \"...\",\n",
    "    \"payload\": { \n",
    "        \"body\": { \n",
    "            \"data\": \"...\", \n",
    "            \"attachmentId\": \"...\", \n",
    "            \"size\": ..., \n",
    "        },\n",
    "        \"mimeType\": \"...\", \n",
    "        \"partId\": \"...\", \n",
    "        \"filename\": \"...\", \n",
    "        \"headers\": [ \n",
    "            {\n",
    "                \"name\": \"...\",\n",
    "                \"value\": \"...\",\n",
    "            }...\n",
    "        ],\n",
    "        \"parts\": [...]...\n",
    "    },\n",
    "    \"snippet\": \"...\", \n",
    "    \"sizeEstimate\": ..., \n",
    "    \"threadId\": \"...\",\n",
    "    \"labelIds\": [\"...\"...],\n",
    "    \"id\": \"...\",\n",
    "}\n",
    "```\n",
    "\n",
    "Email addresses are hidden in header tags and the content of the email is hidden away in data tags. Thankfully the data is encoded, so it uses less space, but it means that we'll need to [decode](https://docs.python.org/3/library/base64.html) it on the other end instead of here.\n",
    "\n",
    "I've turned this data into just what is useful to us. For each message we get:\n",
    "\n",
    "```json\n",
    "{\n",
    "    \"received\": \"...\",\n",
    "    \"delivered-to\": \"...\",\n",
    "    \"to\": \"...\",\n",
    "    \"from\": \"...\",\n",
    "    \"subject\": \"...\",\n",
    "    \"labels\": [\"...\"...],\n",
    "    \"sizeEstimate\": ...,\n",
    "    \"threadId\": \"...\",\n",
    "    \"internalDate\": ..., \n",
    "    \"body\": ...\n",
    "}\n",
    "```\n",
    "\n",
    "The data outputs to `messages.csv` in the notebook's `root` directory."
   ]
  },
  {
   "cell_type": "code",
   "execution_count": null,
   "id": "ffbf336a",
   "metadata": {},
   "outputs": [],
   "source": [
    "IDFile.close()\n",
    "messageFile.close()\n",
    "\n",
    "inboxes = pd.read_csv(messageFileName)\n",
    "\n",
    "messageCount = len(inboxes)\n",
    "\n",
    "print(\"Retrieved \" + str(messageCount) + \" out of ~\" +\n",
    "      str(profile[\"messagesTotal\"]) + \" expected messages\")\n",
    "\n",
    "inboxes.head()"
   ]
  },
  {
   "cell_type": "markdown",
   "id": "a9ca1770",
   "metadata": {},
   "source": [
    "### References\n",
    "\n",
    "[Extracting Metadata from Medium Daily Digest Newsletters via Gmail API](https://towardsdatascience.com/extracting-metadata-from-medium-daily-digest-newsletters-via-gmail-api-97eee890a439) by [Sejal Dua](https://sejaldua.medium.com/)\n",
    "\n",
    "[`Gmail API Dodumentation`](https://developers.google.com/gmail/api/guides)\n",
    "\n",
    "[`Gmail API Python Dodumentation`](https://developers.google.com/resources/api-libraries/documentation/gmail/v1/python/latest/index.html)\n",
    "\n",
    "[`ipywidgets Dodumentation`](https://ipywidgets.readthedocs.io/en/stable/)\n",
    "\n",
    "[`tkinter Dodumentation`](https://docs.python.org/3/library/tk.html)"
   ]
  }
 ],
 "metadata": {
  "kernelspec": {
   "display_name": "Python 3 (ipykernel)",
   "language": "python",
   "name": "python3"
  },
  "language_info": {
   "codemirror_mode": {
    "name": "ipython",
    "version": 3
   },
   "file_extension": ".py",
   "mimetype": "text/x-python",
   "name": "python",
   "nbconvert_exporter": "python",
   "pygments_lexer": "ipython3",
   "version": "3.9.7"
  },
  "toc": {
   "base_numbering": 1,
   "nav_menu": {},
   "number_sections": false,
   "sideBar": true,
   "skip_h1_title": false,
   "title_cell": "Table of Contents",
   "title_sidebar": "Contents",
   "toc_cell": false,
   "toc_position": {},
   "toc_section_display": true,
   "toc_window_display": false
  },
  "varInspector": {
   "cols": {
    "lenName": 16,
    "lenType": 16,
    "lenVar": 40
   },
   "kernels_config": {
    "python": {
     "delete_cmd_postfix": "",
     "delete_cmd_prefix": "del ",
     "library": "var_list.py",
     "varRefreshCmd": "print(var_dic_list())"
    },
    "r": {
     "delete_cmd_postfix": ") ",
     "delete_cmd_prefix": "rm(",
     "library": "var_list.r",
     "varRefreshCmd": "cat(var_dic_list()) "
    }
   },
   "types_to_exclude": [
    "module",
    "function",
    "builtin_function_or_method",
    "instance",
    "_Feature"
   ],
   "window_display": false
  }
 },
 "nbformat": 4,
 "nbformat_minor": 5
}
