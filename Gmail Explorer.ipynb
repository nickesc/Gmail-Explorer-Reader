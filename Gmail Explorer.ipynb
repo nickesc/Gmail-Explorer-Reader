{
 "cells": [
  {
   "cell_type": "markdown",
   "id": "6b387bed",
   "metadata": {},
   "source": [
    "# Data Visualisation Project p. 1: Gmail Explorer Reader"
   ]
  },
  {
   "cell_type": "markdown",
   "id": "8898b192",
   "metadata": {},
   "source": [
    "###### By [nickesc](https://github.com/nickesc)/[N. Escobar](https://nickesc.com)"
   ]
  },
  {
   "cell_type": "markdown",
   "id": "20f9cb03",
   "metadata": {},
   "source": [
    "### *Project Idea:*\n",
    "\n",
    "*Use the [`Gmail API`](https://developers.google.com/gmail/api/guides) to grab data about every email I've ever recieved over several email addresses, sift through it, and analyze it, visualizing different trends, patterns or interesting points.*\n",
    "\n",
    "> This notebook can be run on its own to get the messages from your inbox. With the links at the top of the [`nbviewer page`](https://nbviewer.org/github/nickesc/Gmail-Explorer-Reader/blob/d84c07cc4daee8ddb529878e518a4c4aff4e71b4/Gmail%20Explorer.ipynb), either download the `.ipynb` and run it locally or open the notebook in Binder to run it online."
   ]
  },
  {
   "cell_type": "markdown",
   "id": "727ea6d1",
   "metadata": {},
   "source": [
    "### Setting up the environment\n",
    "\n",
    "##### *Installing the Google client library (from the [`Gmail API Docs`](https://developers.google.com/gmail/api/guides)):*"
   ]
  },
  {
   "cell_type": "code",
   "execution_count": 1,
   "id": "8de29eff",
   "metadata": {
    "collapsed": true
   },
   "outputs": [
    {
     "name": "stdout",
     "output_type": "stream",
     "text": [
      "Requirement already satisfied: google-api-python-client in /Users/nicolas/opt/anaconda3/lib/python3.9/site-packages (2.39.0)\n",
      "Requirement already satisfied: google-auth-httplib2 in /Users/nicolas/opt/anaconda3/lib/python3.9/site-packages (0.1.0)\n",
      "Requirement already satisfied: google-auth-oauthlib in /Users/nicolas/opt/anaconda3/lib/python3.9/site-packages (0.5.0)\n",
      "Requirement already satisfied: uritemplate<5,>=3.0.1 in /Users/nicolas/opt/anaconda3/lib/python3.9/site-packages (from google-api-python-client) (4.1.1)\n",
      "Requirement already satisfied: httplib2<1dev,>=0.15.0 in /Users/nicolas/opt/anaconda3/lib/python3.9/site-packages (from google-api-python-client) (0.20.2)\n",
      "Requirement already satisfied: google-auth<3.0.0dev,>=1.16.0 in /Users/nicolas/opt/anaconda3/lib/python3.9/site-packages (from google-api-python-client) (2.5.0)\n",
      "Requirement already satisfied: google-api-core<3.0.0dev,>=1.21.0 in /Users/nicolas/opt/anaconda3/lib/python3.9/site-packages (from google-api-python-client) (2.4.0)\n",
      "Requirement already satisfied: six in /Users/nicolas/opt/anaconda3/lib/python3.9/site-packages (from google-auth-httplib2) (1.15.0)\n",
      "Requirement already satisfied: requests-oauthlib>=0.7.0 in /Users/nicolas/opt/anaconda3/lib/python3.9/site-packages (from google-auth-oauthlib) (1.3.1)\n",
      "Requirement already satisfied: setuptools>=40.3.0 in /Users/nicolas/opt/anaconda3/lib/python3.9/site-packages (from google-api-core<3.0.0dev,>=1.21.0->google-api-python-client) (58.0.4)\n",
      "Requirement already satisfied: protobuf>=3.12.0 in /Users/nicolas/opt/anaconda3/lib/python3.9/site-packages (from google-api-core<3.0.0dev,>=1.21.0->google-api-python-client) (3.19.4)\n",
      "Requirement already satisfied: googleapis-common-protos<2.0dev,>=1.52.0 in /Users/nicolas/opt/anaconda3/lib/python3.9/site-packages (from google-api-core<3.0.0dev,>=1.21.0->google-api-python-client) (1.54.0)\n",
      "Requirement already satisfied: requests<3.0.0dev,>=2.18.0 in /Users/nicolas/opt/anaconda3/lib/python3.9/site-packages (from google-api-core<3.0.0dev,>=1.21.0->google-api-python-client) (2.27.1)\n",
      "Requirement already satisfied: pyasn1-modules>=0.2.1 in /Users/nicolas/opt/anaconda3/lib/python3.9/site-packages (from google-auth<3.0.0dev,>=1.16.0->google-api-python-client) (0.2.8)\n",
      "Requirement already satisfied: rsa<5,>=3.1.4 in /Users/nicolas/opt/anaconda3/lib/python3.9/site-packages (from google-auth<3.0.0dev,>=1.16.0->google-api-python-client) (4.8)\n",
      "Requirement already satisfied: cachetools<6.0,>=2.0.0 in /Users/nicolas/opt/anaconda3/lib/python3.9/site-packages (from google-auth<3.0.0dev,>=1.16.0->google-api-python-client) (5.0.0)\n",
      "Requirement already satisfied: pyparsing!=3.0.0,!=3.0.1,!=3.0.2,!=3.0.3,<4,>=2.4.2 in /Users/nicolas/opt/anaconda3/lib/python3.9/site-packages (from httplib2<1dev,>=0.15.0->google-api-python-client) (3.0.4)\n",
      "Requirement already satisfied: pyasn1<0.5.0,>=0.4.6 in /Users/nicolas/opt/anaconda3/lib/python3.9/site-packages (from pyasn1-modules>=0.2.1->google-auth<3.0.0dev,>=1.16.0->google-api-python-client) (0.4.8)\n",
      "Requirement already satisfied: idna<4,>=2.5 in /Users/nicolas/opt/anaconda3/lib/python3.9/site-packages (from requests<3.0.0dev,>=2.18.0->google-api-core<3.0.0dev,>=1.21.0->google-api-python-client) (3.3)\n",
      "Requirement already satisfied: charset-normalizer~=2.0.0 in /Users/nicolas/opt/anaconda3/lib/python3.9/site-packages (from requests<3.0.0dev,>=2.18.0->google-api-core<3.0.0dev,>=1.21.0->google-api-python-client) (2.0.4)\n",
      "Requirement already satisfied: certifi>=2017.4.17 in /Users/nicolas/opt/anaconda3/lib/python3.9/site-packages (from requests<3.0.0dev,>=2.18.0->google-api-core<3.0.0dev,>=1.21.0->google-api-python-client) (2021.10.8)\n",
      "Requirement already satisfied: urllib3<1.27,>=1.21.1 in /Users/nicolas/opt/anaconda3/lib/python3.9/site-packages (from requests<3.0.0dev,>=2.18.0->google-api-core<3.0.0dev,>=1.21.0->google-api-python-client) (1.26.8)\n",
      "Requirement already satisfied: oauthlib>=3.0.0 in /Users/nicolas/opt/anaconda3/lib/python3.9/site-packages (from requests-oauthlib>=0.7.0->google-auth-oauthlib) (3.2.0)\n"
     ]
    }
   ],
   "source": [
    "!pip install --upgrade --upgrade-strategy=only-if-needed google-api-python-client google-auth-httplib2 google-auth-oauthlib"
   ]
  },
  {
   "cell_type": "markdown",
   "id": "09de4895",
   "metadata": {},
   "source": [
    "##### Installing ipywidgets, scikit-learn and seaborn:"
   ]
  },
  {
   "cell_type": "code",
   "execution_count": 2,
   "id": "0ede435e",
   "metadata": {
    "collapsed": true
   },
   "outputs": [
    {
     "name": "stdout",
     "output_type": "stream",
     "text": [
      "Requirement already satisfied: ipywidgets in /Users/nicolas/opt/anaconda3/lib/python3.9/site-packages (7.6.5)\n",
      "Requirement already satisfied: nbformat>=4.2.0 in /Users/nicolas/opt/anaconda3/lib/python3.9/site-packages (from ipywidgets) (5.1.3)\n",
      "Requirement already satisfied: ipython>=4.0.0 in /Users/nicolas/opt/anaconda3/lib/python3.9/site-packages (from ipywidgets) (7.31.1)\n",
      "Requirement already satisfied: jupyterlab-widgets>=1.0.0 in /Users/nicolas/opt/anaconda3/lib/python3.9/site-packages (from ipywidgets) (1.0.2)\n",
      "Requirement already satisfied: traitlets>=4.3.1 in /Users/nicolas/opt/anaconda3/lib/python3.9/site-packages (from ipywidgets) (5.1.1)\n",
      "Requirement already satisfied: ipython-genutils~=0.2.0 in /Users/nicolas/opt/anaconda3/lib/python3.9/site-packages (from ipywidgets) (0.2.0)\n",
      "Requirement already satisfied: widgetsnbextension~=3.5.0 in /Users/nicolas/opt/anaconda3/lib/python3.9/site-packages (from ipywidgets) (3.5.2)\n",
      "Requirement already satisfied: ipykernel>=4.5.1 in /Users/nicolas/opt/anaconda3/lib/python3.9/site-packages (from ipywidgets) (6.4.1)\n",
      "Requirement already satisfied: jupyter-client<8.0 in /Users/nicolas/opt/anaconda3/lib/python3.9/site-packages (from ipykernel>=4.5.1->ipywidgets) (6.1.12)\n",
      "Requirement already satisfied: appnope in /Users/nicolas/opt/anaconda3/lib/python3.9/site-packages (from ipykernel>=4.5.1->ipywidgets) (0.1.2)\n",
      "Requirement already satisfied: tornado<7.0,>=4.2 in /Users/nicolas/opt/anaconda3/lib/python3.9/site-packages (from ipykernel>=4.5.1->ipywidgets) (6.1)\n",
      "Requirement already satisfied: debugpy<2.0,>=1.0.0 in /Users/nicolas/opt/anaconda3/lib/python3.9/site-packages (from ipykernel>=4.5.1->ipywidgets) (1.5.1)\n",
      "Requirement already satisfied: matplotlib-inline<0.2.0,>=0.1.0 in /Users/nicolas/opt/anaconda3/lib/python3.9/site-packages (from ipykernel>=4.5.1->ipywidgets) (0.1.2)\n",
      "Requirement already satisfied: decorator in /Users/nicolas/opt/anaconda3/lib/python3.9/site-packages (from ipython>=4.0.0->ipywidgets) (5.1.1)\n",
      "Requirement already satisfied: setuptools>=18.5 in /Users/nicolas/opt/anaconda3/lib/python3.9/site-packages (from ipython>=4.0.0->ipywidgets) (58.0.4)\n",
      "Requirement already satisfied: pygments in /Users/nicolas/opt/anaconda3/lib/python3.9/site-packages (from ipython>=4.0.0->ipywidgets) (2.10.0)\n",
      "Requirement already satisfied: jedi>=0.16 in /Users/nicolas/opt/anaconda3/lib/python3.9/site-packages (from ipython>=4.0.0->ipywidgets) (0.17.2)\n",
      "Requirement already satisfied: pickleshare in /Users/nicolas/opt/anaconda3/lib/python3.9/site-packages (from ipython>=4.0.0->ipywidgets) (0.7.5)\n",
      "Requirement already satisfied: prompt-toolkit!=3.0.0,!=3.0.1,<3.1.0,>=2.0.0 in /Users/nicolas/opt/anaconda3/lib/python3.9/site-packages (from ipython>=4.0.0->ipywidgets) (3.0.20)\n",
      "Requirement already satisfied: backcall in /Users/nicolas/opt/anaconda3/lib/python3.9/site-packages (from ipython>=4.0.0->ipywidgets) (0.2.0)\n",
      "Requirement already satisfied: pexpect>4.3 in /Users/nicolas/opt/anaconda3/lib/python3.9/site-packages (from ipython>=4.0.0->ipywidgets) (4.8.0)\n",
      "Requirement already satisfied: parso<0.8.0,>=0.7.0 in /Users/nicolas/opt/anaconda3/lib/python3.9/site-packages (from jedi>=0.16->ipython>=4.0.0->ipywidgets) (0.7.1)\n",
      "Requirement already satisfied: python-dateutil>=2.1 in /Users/nicolas/opt/anaconda3/lib/python3.9/site-packages (from jupyter-client<8.0->ipykernel>=4.5.1->ipywidgets) (2.8.2)\n",
      "Requirement already satisfied: pyzmq>=13 in /Users/nicolas/opt/anaconda3/lib/python3.9/site-packages (from jupyter-client<8.0->ipykernel>=4.5.1->ipywidgets) (22.3.0)\n",
      "Requirement already satisfied: jupyter-core>=4.6.0 in /Users/nicolas/opt/anaconda3/lib/python3.9/site-packages (from jupyter-client<8.0->ipykernel>=4.5.1->ipywidgets) (4.9.1)\n",
      "Requirement already satisfied: jsonschema!=2.5.0,>=2.4 in /Users/nicolas/opt/anaconda3/lib/python3.9/site-packages (from nbformat>=4.2.0->ipywidgets) (3.2.0)\n",
      "Requirement already satisfied: six>=1.11.0 in /Users/nicolas/opt/anaconda3/lib/python3.9/site-packages (from jsonschema!=2.5.0,>=2.4->nbformat>=4.2.0->ipywidgets) (1.15.0)\n",
      "Requirement already satisfied: pyrsistent>=0.14.0 in /Users/nicolas/opt/anaconda3/lib/python3.9/site-packages (from jsonschema!=2.5.0,>=2.4->nbformat>=4.2.0->ipywidgets) (0.18.0)\n",
      "Requirement already satisfied: attrs>=17.4.0 in /Users/nicolas/opt/anaconda3/lib/python3.9/site-packages (from jsonschema!=2.5.0,>=2.4->nbformat>=4.2.0->ipywidgets) (21.4.0)\n",
      "Requirement already satisfied: ptyprocess>=0.5 in /Users/nicolas/opt/anaconda3/lib/python3.9/site-packages (from pexpect>4.3->ipython>=4.0.0->ipywidgets) (0.7.0)\n",
      "Requirement already satisfied: wcwidth in /Users/nicolas/opt/anaconda3/lib/python3.9/site-packages (from prompt-toolkit!=3.0.0,!=3.0.1,<3.1.0,>=2.0.0->ipython>=4.0.0->ipywidgets) (0.2.5)\n",
      "Requirement already satisfied: notebook>=4.4.1 in /Users/nicolas/opt/anaconda3/lib/python3.9/site-packages (from widgetsnbextension~=3.5.0->ipywidgets) (6.4.6)\n",
      "Requirement already satisfied: jinja2 in /Users/nicolas/opt/anaconda3/lib/python3.9/site-packages (from notebook>=4.4.1->widgetsnbextension~=3.5.0->ipywidgets) (2.11.3)\n",
      "Requirement already satisfied: Send2Trash>=1.8.0 in /Users/nicolas/opt/anaconda3/lib/python3.9/site-packages (from notebook>=4.4.1->widgetsnbextension~=3.5.0->ipywidgets) (1.8.0)\n",
      "Requirement already satisfied: argon2-cffi in /Users/nicolas/opt/anaconda3/lib/python3.9/site-packages (from notebook>=4.4.1->widgetsnbextension~=3.5.0->ipywidgets) (20.1.0)\n",
      "Requirement already satisfied: prometheus-client in /Users/nicolas/opt/anaconda3/lib/python3.9/site-packages (from notebook>=4.4.1->widgetsnbextension~=3.5.0->ipywidgets) (0.13.1)\n",
      "Requirement already satisfied: nest-asyncio>=1.5 in /Users/nicolas/opt/anaconda3/lib/python3.9/site-packages (from notebook>=4.4.1->widgetsnbextension~=3.5.0->ipywidgets) (1.5.1)\n",
      "Requirement already satisfied: nbconvert in /Users/nicolas/opt/anaconda3/lib/python3.9/site-packages (from notebook>=4.4.1->widgetsnbextension~=3.5.0->ipywidgets) (6.3.0)\n",
      "Requirement already satisfied: terminado>=0.8.3 in /Users/nicolas/opt/anaconda3/lib/python3.9/site-packages (from notebook>=4.4.1->widgetsnbextension~=3.5.0->ipywidgets) (0.9.4)\n",
      "Requirement already satisfied: cffi>=1.0.0 in /Users/nicolas/opt/anaconda3/lib/python3.9/site-packages (from argon2-cffi->notebook>=4.4.1->widgetsnbextension~=3.5.0->ipywidgets) (1.15.0)\n",
      "Requirement already satisfied: pycparser in /Users/nicolas/opt/anaconda3/lib/python3.9/site-packages (from cffi>=1.0.0->argon2-cffi->notebook>=4.4.1->widgetsnbextension~=3.5.0->ipywidgets) (2.21)\n",
      "Requirement already satisfied: MarkupSafe>=0.23 in /Users/nicolas/opt/anaconda3/lib/python3.9/site-packages (from jinja2->notebook>=4.4.1->widgetsnbextension~=3.5.0->ipywidgets) (1.1.1)\n",
      "Requirement already satisfied: jupyterlab-pygments in /Users/nicolas/opt/anaconda3/lib/python3.9/site-packages (from nbconvert->notebook>=4.4.1->widgetsnbextension~=3.5.0->ipywidgets) (0.1.2)\n",
      "Requirement already satisfied: bleach in /Users/nicolas/opt/anaconda3/lib/python3.9/site-packages (from nbconvert->notebook>=4.4.1->widgetsnbextension~=3.5.0->ipywidgets) (4.1.0)\n",
      "Requirement already satisfied: mistune<2,>=0.8.1 in /Users/nicolas/opt/anaconda3/lib/python3.9/site-packages (from nbconvert->notebook>=4.4.1->widgetsnbextension~=3.5.0->ipywidgets) (0.8.4)\n",
      "Requirement already satisfied: entrypoints>=0.2.2 in /Users/nicolas/opt/anaconda3/lib/python3.9/site-packages (from nbconvert->notebook>=4.4.1->widgetsnbextension~=3.5.0->ipywidgets) (0.3)\n",
      "Requirement already satisfied: defusedxml in /Users/nicolas/opt/anaconda3/lib/python3.9/site-packages (from nbconvert->notebook>=4.4.1->widgetsnbextension~=3.5.0->ipywidgets) (0.7.1)\n",
      "Requirement already satisfied: testpath in /Users/nicolas/opt/anaconda3/lib/python3.9/site-packages (from nbconvert->notebook>=4.4.1->widgetsnbextension~=3.5.0->ipywidgets) (0.5.0)\n",
      "Requirement already satisfied: pandocfilters>=1.4.1 in /Users/nicolas/opt/anaconda3/lib/python3.9/site-packages (from nbconvert->notebook>=4.4.1->widgetsnbextension~=3.5.0->ipywidgets) (1.5.0)\n",
      "Requirement already satisfied: nbclient<0.6.0,>=0.5.0 in /Users/nicolas/opt/anaconda3/lib/python3.9/site-packages (from nbconvert->notebook>=4.4.1->widgetsnbextension~=3.5.0->ipywidgets) (0.5.3)\n"
     ]
    },
    {
     "name": "stdout",
     "output_type": "stream",
     "text": [
      "Requirement already satisfied: async-generator in /Users/nicolas/opt/anaconda3/lib/python3.9/site-packages (from nbclient<0.6.0,>=0.5.0->nbconvert->notebook>=4.4.1->widgetsnbextension~=3.5.0->ipywidgets) (1.10)\n",
      "Requirement already satisfied: webencodings in /Users/nicolas/opt/anaconda3/lib/python3.9/site-packages (from bleach->nbconvert->notebook>=4.4.1->widgetsnbextension~=3.5.0->ipywidgets) (0.5.1)\n",
      "Requirement already satisfied: packaging in /Users/nicolas/opt/anaconda3/lib/python3.9/site-packages (from bleach->nbconvert->notebook>=4.4.1->widgetsnbextension~=3.5.0->ipywidgets) (21.3)\n",
      "Requirement already satisfied: pyparsing!=3.0.5,>=2.0.2 in /Users/nicolas/opt/anaconda3/lib/python3.9/site-packages (from packaging->bleach->nbconvert->notebook>=4.4.1->widgetsnbextension~=3.5.0->ipywidgets) (3.0.4)\n",
      "Requirement already satisfied: scikit-learn in /Users/nicolas/opt/anaconda3/lib/python3.9/site-packages (1.0.2)\n",
      "Requirement already satisfied: numpy>=1.14.6 in /Users/nicolas/opt/anaconda3/lib/python3.9/site-packages (from scikit-learn) (1.21.2)\n",
      "Requirement already satisfied: scipy>=1.1.0 in /Users/nicolas/opt/anaconda3/lib/python3.9/site-packages (from scikit-learn) (1.7.3)\n",
      "Requirement already satisfied: joblib>=0.11 in /Users/nicolas/opt/anaconda3/lib/python3.9/site-packages (from scikit-learn) (1.1.0)\n",
      "Requirement already satisfied: threadpoolctl>=2.0.0 in /Users/nicolas/opt/anaconda3/lib/python3.9/site-packages (from scikit-learn) (3.1.0)\n",
      "Requirement already satisfied: seaborn in /Users/nicolas/opt/anaconda3/lib/python3.9/site-packages (0.11.2)\n",
      "Requirement already satisfied: pandas>=0.23 in /Users/nicolas/opt/anaconda3/lib/python3.9/site-packages (from seaborn) (1.3.5)\n",
      "Requirement already satisfied: matplotlib>=2.2 in /Users/nicolas/opt/anaconda3/lib/python3.9/site-packages (from seaborn) (3.5.0)\n",
      "Requirement already satisfied: numpy>=1.15 in /Users/nicolas/opt/anaconda3/lib/python3.9/site-packages (from seaborn) (1.21.2)\n",
      "Requirement already satisfied: scipy>=1.0 in /Users/nicolas/opt/anaconda3/lib/python3.9/site-packages (from seaborn) (1.7.3)\n",
      "Requirement already satisfied: pillow>=6.2.0 in /Users/nicolas/opt/anaconda3/lib/python3.9/site-packages (from matplotlib>=2.2->seaborn) (8.4.0)\n",
      "Requirement already satisfied: pyparsing>=2.2.1 in /Users/nicolas/opt/anaconda3/lib/python3.9/site-packages (from matplotlib>=2.2->seaborn) (3.0.4)\n",
      "Requirement already satisfied: fonttools>=4.22.0 in /Users/nicolas/opt/anaconda3/lib/python3.9/site-packages (from matplotlib>=2.2->seaborn) (4.25.0)\n",
      "Requirement already satisfied: python-dateutil>=2.7 in /Users/nicolas/opt/anaconda3/lib/python3.9/site-packages (from matplotlib>=2.2->seaborn) (2.8.2)\n",
      "Requirement already satisfied: kiwisolver>=1.0.1 in /Users/nicolas/opt/anaconda3/lib/python3.9/site-packages (from matplotlib>=2.2->seaborn) (1.3.1)\n",
      "Requirement already satisfied: packaging>=20.0 in /Users/nicolas/opt/anaconda3/lib/python3.9/site-packages (from matplotlib>=2.2->seaborn) (21.3)\n",
      "Requirement already satisfied: cycler>=0.10 in /Users/nicolas/opt/anaconda3/lib/python3.9/site-packages (from matplotlib>=2.2->seaborn) (0.11.0)\n",
      "Requirement already satisfied: pytz>=2017.3 in /Users/nicolas/opt/anaconda3/lib/python3.9/site-packages (from pandas>=0.23->seaborn) (2021.3)\n",
      "Requirement already satisfied: six>=1.5 in /Users/nicolas/opt/anaconda3/lib/python3.9/site-packages (from python-dateutil>=2.7->matplotlib>=2.2->seaborn) (1.15.0)\n"
     ]
    }
   ],
   "source": [
    "!pip install --upgrade --upgrade-strategy=only-if-needed ipywidgets\n",
    "!pip install --upgrade --upgrade-strategy=only-if-needed scikit-learn\n",
    "!pip install --upgrade --upgrade-strategy=only-if-needed seaborn"
   ]
  },
  {
   "cell_type": "markdown",
   "id": "be40b543",
   "metadata": {},
   "source": [
    "##### Importing all our packages:"
   ]
  },
  {
   "cell_type": "code",
   "execution_count": 3,
   "id": "82b98cb7",
   "metadata": {},
   "outputs": [],
   "source": [
    "from __future__ import print_function\n",
    "\n",
    "import os\n",
    "import csv\n",
    "import base64\n",
    "import pandas as pd\n",
    "import seaborn as sns\n",
    "import numpy as np\n",
    "import sklearn\n",
    "import matplotlib.pyplot as plt\n",
    "\n",
    "\n",
    "from IPython.display import clear_output, display\n",
    "from ipywidgets import *\n",
    "from tkinter import Tk, filedialog\n",
    "from math import floor\n",
    "\n",
    "\n",
    "# GMAIL API\n",
    "from google.auth.transport.requests import Request\n",
    "from google.oauth2.credentials import Credentials\n",
    "from google_auth_oauthlib.flow import InstalledAppFlow\n",
    "from googleapiclient.discovery import build\n",
    "from googleapiclient.errors import HttpError"
   ]
  },
  {
   "cell_type": "markdown",
   "id": "16b6b036",
   "metadata": {},
   "source": [
    "### Notebook options"
   ]
  },
  {
   "cell_type": "code",
   "execution_count": 4,
   "id": "fa6019e1",
   "metadata": {
    "code_folding": []
   },
   "outputs": [
    {
     "data": {
      "application/vnd.jupyter.widget-view+json": {
       "model_id": "389b400a0cf14025987af28541bfdb17",
       "version_major": 2,
       "version_minor": 0
      },
      "text/plain": [
       "IntSlider(value=10, description='Chunks:', max=20, min=1)"
      ]
     },
     "metadata": {},
     "output_type": "display_data"
    },
    {
     "data": {
      "application/vnd.jupyter.widget-view+json": {
       "model_id": "3893518845204a72b50bb7489650b84c",
       "version_major": 2,
       "version_minor": 0
      },
      "text/plain": [
       "ToggleButtons(description='Dev mode:', index=1, options=('on', 'off'), value='off')"
      ]
     },
     "metadata": {},
     "output_type": "display_data"
    },
    {
     "data": {
      "application/vnd.jupyter.widget-view+json": {
       "model_id": "5b5ce5e73b27447f8ca3ce5545b894de",
       "version_major": 2,
       "version_minor": 0
      },
      "text/plain": [
       "Label(value='(dev mode may break code, only use if running the notebook locally)')"
      ]
     },
     "metadata": {},
     "output_type": "display_data"
    }
   ],
   "source": [
    "dev=[False]\n",
    "chunks=[10]\n",
    "devToggle = widgets.ToggleButtons(\n",
    "    options=['on', 'off'],\n",
    "    description='Dev mode:',\n",
    "    disabled=False,\n",
    "    button_style='',\n",
    "    value='off'\n",
    ")\n",
    "chunkSlider = widgets.IntSlider(\n",
    "    value=10,\n",
    "    min=1,\n",
    "    max=20,\n",
    "    step=1,\n",
    "    description='Chunks:',\n",
    "    orientation='horizontal',\n",
    "    readout=True,\n",
    ")\n",
    "def devClick(change):\n",
    "    dev[0]= not dev[0]\n",
    "def chunkClick(change):\n",
    "    chunks[0]=chunkSlider.value\n",
    "    \n",
    "devToggle.observe(devClick, names='value')\n",
    "chunkSlider.observe(chunkClick, names='value')\n",
    "\n",
    "display(chunkSlider,devToggle,widgets.Label(\"(dev mode may break code, only use if running the notebook locally)\"))"
   ]
  },
  {
   "cell_type": "markdown",
   "id": "404bf62a",
   "metadata": {},
   "source": [
    "### Reading Inboxes\n",
    "\n",
    "The [`Gmail API`](https://developers.google.com/gmail/api/guides) can be used to return a paginated list of all messages in a user's inbox, however it only returns the message IDs. So, first we need to get all the IDs, then we need to get all the messages with the IDs\n",
    "\n",
    "#### Accessing the account\n",
    "\n",
    "First, the user needs to log in to their gmail account and give it access to read everything. The  [`Gmail API Docs`](https://developers.google.com/gmail/api/guides) list these ase requirements for using the  [`Gmail API`](https://developers.google.com/gmail/api/guides):\n",
    "\n",
    "> 1. [A Google Cloud Platform project with the API enabled.](https://developers.google.com/workspace/guides/create-project)\n",
    "> 2. [Authorization credentials for a desktop application](https://developers.google.com/workspace/guides/create-credentials)\n",
    "> 3. A Google account with Gmail enabled\n",
    ">\n",
    "> I found their resources for setting up the project unhelpful, and found [this Medium Article](https://towardsdatascience.com/extracting-metadata-from-medium-daily-digest-newsletters-via-gmail-api-97eee890a439) by [Sejal Dua](https://sejaldua.medium.com/) much more helpful.\n",
    "\n",
    "The two files we need to communicate with the [`Gmail API`](https://developers.google.com/gmail/api/guides) are `credentials.json` and `token.json`. We get `credentials.json` during our setup from Google Cloud Console, but `token.json` is generated for the current session when we log in. These files are located in the `root` of the notebook, and the notebook assumes it has `credentials.json` unless you upload something.\n",
    "\n",
    "> To load credentials or clear the currrent session token (to use a different account), use these snippets:\n",
    "\n",
    "##### Load credentials:"
   ]
  },
  {
   "cell_type": "code",
   "execution_count": 5,
   "id": "18cc51fc",
   "metadata": {
    "code_folding": []
   },
   "outputs": [
    {
     "name": "stdout",
     "output_type": "stream",
     "text": [
      "Upload the credentials.json file from Google Cloud Console\n"
     ]
    },
    {
     "data": {
      "application/vnd.jupyter.widget-view+json": {
       "model_id": "f28ded12e0bf40e7a3de21fac491b993",
       "version_major": 2,
       "version_minor": 0
      },
      "text/plain": [
       "FileUpload(value={}, description='Upload')"
      ]
     },
     "metadata": {},
     "output_type": "display_data"
    }
   ],
   "source": [
    "credentials = \"credentials.json\"\n",
    "tokenName = \"token.json\"\n",
    "\n",
    "def uploadFile(change):\n",
    "    clear_output()\n",
    "    with open(credentials, \"w+b\") as i:\n",
    "        i.write(upload.data[0])\n",
    "    print(\"New\",credentials,\"uploaded.\")\n",
    "    \n",
    "    \n",
    "upload = FileUpload(accepts = '.json', multiple=False)\n",
    "upload.observe(uploadFile, names='value')\n",
    "\n",
    "print(\"Upload the credentials.json file from Google Cloud Console\")\n",
    "display(upload)"
   ]
  },
  {
   "cell_type": "markdown",
   "id": "dc88f10f",
   "metadata": {},
   "source": [
    "##### Clear session token:"
   ]
  },
  {
   "cell_type": "code",
   "execution_count": 6,
   "id": "83863637",
   "metadata": {},
   "outputs": [
    {
     "name": "stdout",
     "output_type": "stream",
     "text": [
      "Session token cleared. Please run the next cell to log in.\n"
     ]
    },
    {
     "data": {
      "application/vnd.jupyter.widget-view+json": {
       "model_id": "de969e9cdb99452eb322ab4051ec1c52",
       "version_major": 2,
       "version_minor": 0
      },
      "text/plain": [
       "Button(description='Clear session token', style=ButtonStyle())"
      ]
     },
     "metadata": {},
     "output_type": "display_data"
    }
   ],
   "source": [
    "def clearToken(b):\n",
    "    clear_output()\n",
    "    if os.path.exists(\"token.json\"):\n",
    "        os.remove(\"token.json\")\n",
    "    print(\"Session token cleared. Please run the next cell to log in.\")\n",
    "    display(clear)\n",
    "\n",
    "\n",
    "clear = Button(description=\"Clear session token\")\n",
    "clear.on_click(clearToken)\n",
    "\n",
    "print(\"Click to clear the current session token.\")\n",
    "display(clear)"
   ]
  },
  {
   "cell_type": "markdown",
   "id": "1bfea27d",
   "metadata": {},
   "source": [
    "##### Signing in\n",
    "\n",
    "Running the next cell will take you to another tab to log in to your Gmail account. It can only be one of the accounts you've added as a test user, so be sure to select the right one. You will be asked to sign in and verify you want to use the app, and then it will give you an authorization code to plug back into the notebook. In `dev mode`, the authorization code isn't used and it authorizes automatically after you approve the app -- this cannot be used online because it relies on a localhost connection. "
   ]
  },
  {
   "cell_type": "code",
   "execution_count": 7,
   "id": "89d6e6ed",
   "metadata": {},
   "outputs": [
    {
     "name": "stdout",
     "output_type": "stream",
     "text": [
      "Please visit this URL to authorize this application: https://accounts.google.com/o/oauth2/auth?response_type=code&client_id=163406621868-c0aibiq2na8mjkab1ntvi31uocor1qh8.apps.googleusercontent.com&redirect_uri=urn%3Aietf%3Awg%3Aoauth%3A2.0%3Aoob&scope=https%3A%2F%2Fwww.googleapis.com%2Fauth%2Fgmail.readonly&state=oUYXBRR98EBTiRC4mDSLHZlqOBC0FD&prompt=consent&access_type=offline\n",
      "Enter the authorization code and press enter: 4/1AX4XfWgJWyoJJFM52PUrNosdpH-PVhXSGc8r7QAKbclI6igmHEW-HAGkDW0\n",
      "\n",
      "Signed in to nickesc.media@gmail.com; continue to the next cell.\n",
      "\n"
     ]
    }
   ],
   "source": [
    "# If modifying these scopes, delete the file token.json.\n",
    "\n",
    "SCOPES = ['https://www.googleapis.com/auth/gmail.readonly']\n",
    "creds = None\n",
    "# The file token.json stores the user's access and refresh tokens, and is\n",
    "# created automatically when the authorization flow completes for the first\n",
    "# time.\n",
    "if os.path.exists(tokenName):\n",
    "    creds = Credentials.from_authorized_user_file(tokenName, SCOPES)\n",
    "# If there are no (valid) credentials available, let the user log in.\n",
    "if not creds or not creds.valid:\n",
    "    if creds and creds.expired and creds.refresh_token:\n",
    "        creds.refresh(Request())\n",
    "    else:\n",
    "        flow = InstalledAppFlow.from_client_secrets_file(credentials, SCOPES)\n",
    "        if dev[0]:\n",
    "            creds = flow.run_local_server(port=0)\n",
    "        else:\n",
    "            creds = flow.run_console(authorization_code_message='Enter the authorization code and press enter: ')\n",
    "\n",
    "        #creds = flow.run_local_server(port=0)\n",
    "    # Save the credentials for the next run\n",
    "    with open('token.json', 'w') as token:\n",
    "        token.write(creds.to_json())\n",
    "\n",
    "try:\n",
    "    service = build('gmail', 'v1', credentials=creds)\n",
    "    print(\n",
    "        \"\\nSigned in to\",\n",
    "        service.users().getProfile(userId='me').execute()[\"emailAddress\"] +\n",
    "        \"; continue to the next cell.\\n\")\n",
    "except:\n",
    "    print(\n",
    "        \"\\nService error, please retry or throw your hands up in confusion\\n\")"
   ]
  },
  {
   "cell_type": "markdown",
   "id": "0702a284",
   "metadata": {},
   "source": [
    "#### Getting message `id`s\n",
    "\n",
    "To avoid enormous repsonses, the [`Gmail API`](https://developers.google.com/gmail/api/guides) returns paginated responses and lists of `id`s instead of full emails. So the program needs to loop through reponses to get all the `id`s. This actually allowed for a progress update to show how long it was taking (up to a few minutes for larger accounts) when it otherwise didn't look like it was working. It keeps asking for pages until it can't find a `nextPageToken`.\n",
    "\n",
    "> This percent system divides the current number of IDs recieved by the total expected number listed in the user's profile data. It isn't a perfect solution, because deleted emails are collected but not counted towards the profile number, but it works fine to get across how quickly the API is working.\n",
    ">\n",
    "> This was initially written for tracking recieving messages, but it worked so well there that I just dropped the code here with a few tweaks. That code later had to be reworked (because it did not, in fact, work so well), but the original version is still here, because this percentage is just vanity, where as the other is functional as well. "
   ]
  },
  {
   "cell_type": "code",
   "execution_count": 8,
   "id": "767ee1d5",
   "metadata": {},
   "outputs": [],
   "source": [
    "def getPage(writer, percents, expected, current, pageToken=None):\n",
    "\n",
    "    try:\n",
    "        # Call the Gmail API\n",
    "\n",
    "        results = service.users().messages().list(\n",
    "            userId='me',\n",
    "            pageToken=pageToken,\n",
    "            maxResults=500,\n",
    "            includeSpamTrash=True).execute()\n",
    "        for pair in results[\"messages\"]:\n",
    "            percent = round((current / expected) * 100)\n",
    "            if percent not in percents:\n",
    "                percents.append(percent)\n",
    "                if percent % 5 == 0:\n",
    "                    print(\"%\" + str(percent) + \" complete...\")\n",
    "            writer.writerow([pair[\"id\"]])\n",
    "            current += 1\n",
    "        if results[\"nextPageToken\"]:\n",
    "            getPage(writer, percents, expected, current,\n",
    "                    results[\"nextPageToken\"])\n",
    "        else:\n",
    "            print(results)\n",
    "\n",
    "    except Exception as e:\n",
    "        # TODO(developer) - Handle errors from gmail API.\n",
    "        print(f'Messages end: no {e}')\n",
    "\n",
    "\n",
    "def cleanCSV(fileName):\n",
    "    clean = open(fileName, \"w\")\n",
    "    writer = csv.writer(clean)\n",
    "    writer.writerow([\"id\"])\n",
    "    clean.close()\n",
    "    print(fileName + \" cleaned.\\n\")\n",
    "\n",
    "\n",
    "def displayHead(fileName):\n",
    "    data = pd.read_csv(fileName)\n",
    "    display(data.head())\n",
    "    print(\"...and \" + str(data.shape[0] - 5) + \" more rows\")\n",
    "\n",
    "\n",
    "def getIDs(name):\n",
    "\n",
    "    profile = service.users().getProfile(userId='me').execute()\n",
    "\n",
    "    percents = []\n",
    "    expected = profile[\"messagesTotal\"]\n",
    "    current = 0\n",
    "\n",
    "    fileName = name + \"IDs.csv\"\n",
    "    cleanCSV(fileName)\n",
    "    print(\"Finding ~\" + str(profile[\"messagesTotal\"]) + \" messages...\")\n",
    "\n",
    "    IDFile = open(fileName, 'a')\n",
    "    writer = csv.writer(IDFile)\n",
    "    getPage(writer, percents, expected, current)\n",
    "    IDFile.close()\n",
    "\n",
    "    messageCount = len(pd.read_csv(fileName))\n",
    "\n",
    "    print(\"Finshed collecting \" + str(messageCount) + \" out of \" +\n",
    "          str(profile[\"messagesTotal\"]) + \" messages from \" +\n",
    "          profile[\"emailAddress\"])\n",
    "    displayHead(fileName)\n",
    "    return fileName"
   ]
  },
  {
   "cell_type": "markdown",
   "id": "07da5297",
   "metadata": {},
   "source": [
    "The specific call we make to the [`Gmail API`](https://developers.google.com/gmail/api/guides) --\n",
    "\n",
    "```python\n",
    "results = service.users().messages().list(userId = 'me', pageToken = pageToken, maxResults = 500, \n",
    "                                          includeSpamTrash = True).execute()\n",
    "```\n",
    "\n",
    "-- grabs a list of the next 500 results, instead of the default 100 (`maxResults = 500`), from the user's inbox, including pulling from usually ignored Spam and Trash folders (`includeSpamTrash = True`).\n",
    "\n",
    "This returns:\n",
    "\n",
    "```python\n",
    "{'messages': [\n",
    "        {\n",
    "            'id': '...', \n",
    "            'threadId': '...'\n",
    "        }, \n",
    "        {\n",
    "            'id': '...', \n",
    "            'threadId': '...'\n",
    "        }...\n",
    "    ]\n",
    "}\n",
    "```\n",
    "\n",
    "Each entry in messages is a different message, with an `id` and a `threadId`. The `id` and `threadId` are usually the same, but when you respond to an email it starts a thread, and the entire thread shares the `threadId` to associate them, while the individual message keeps a unique `id`. Here, all we care about is the `id`, so we add each `id` into a `.csv` and dump the rest of the information.\n",
    "\n",
    "#### Selecting an account and running the program"
   ]
  },
  {
   "cell_type": "code",
   "execution_count": 9,
   "id": "a511b54e",
   "metadata": {},
   "outputs": [
    {
     "data": {
      "application/vnd.jupyter.widget-view+json": {
       "model_id": "27bf03b8fc134ed2b2bcf17d372e9028",
       "version_major": 2,
       "version_minor": 0
      },
      "text/plain": [
       "RadioButtons(description='Account', options=('jg', 'gd', 'ne', 'nm'), value='jg')"
      ]
     },
     "metadata": {},
     "output_type": "display_data"
    }
   ],
   "source": [
    "accounts = [\"jg\", \"gd\", \"ne\", \"nm\"]\n",
    "fields = [\n",
    "    'id', 'received', 'delivered-to', 'to', 'from', 'subject', 'labels',\n",
    "    'sizeEstimate', 'threadId', 'internalDate', 'body'\n",
    "]\n",
    "\n",
    "account = widgets.RadioButtons(options=accounts,\n",
    "                               value=accounts[0],\n",
    "                               description='Account')\n",
    "display(account)"
   ]
  },
  {
   "cell_type": "markdown",
   "id": "1da59c32",
   "metadata": {},
   "source": [
    "Finally, the program asks the user to choose which account identifiers to use for the ID file, in case you have multiples accounts and want to make multiple ID files. Account identifiers are based of my own accounts, but have no impact on anything but file name. Running the second cell after this starts collecting IDs using the above functions."
   ]
  },
  {
   "cell_type": "code",
   "execution_count": 10,
   "id": "d1d034ea",
   "metadata": {},
   "outputs": [
    {
     "name": "stdout",
     "output_type": "stream",
     "text": [
      "nmIDs.csv cleaned.\n",
      "\n",
      "Finding ~195 messages...\n",
      "%0 complete...\n",
      "%5 complete...\n",
      "%10 complete...\n",
      "%15 complete...\n",
      "%20 complete...\n",
      "%25 complete...\n",
      "%30 complete...\n",
      "%35 complete...\n",
      "%40 complete...\n",
      "%45 complete...\n",
      "%50 complete...\n",
      "%55 complete...\n",
      "%60 complete...\n",
      "%65 complete...\n",
      "%70 complete...\n",
      "%75 complete...\n",
      "%80 complete...\n",
      "%85 complete...\n",
      "%90 complete...\n",
      "%95 complete...\n",
      "%100 complete...\n",
      "Messages end: no 'nextPageToken'\n",
      "Finshed collecting 196 out of 195 messages from nickesc.media@gmail.com\n"
     ]
    },
    {
     "data": {
      "text/html": [
       "<div>\n",
       "<style scoped>\n",
       "    .dataframe tbody tr th:only-of-type {\n",
       "        vertical-align: middle;\n",
       "    }\n",
       "\n",
       "    .dataframe tbody tr th {\n",
       "        vertical-align: top;\n",
       "    }\n",
       "\n",
       "    .dataframe thead th {\n",
       "        text-align: right;\n",
       "    }\n",
       "</style>\n",
       "<table border=\"1\" class=\"dataframe\">\n",
       "  <thead>\n",
       "    <tr style=\"text-align: right;\">\n",
       "      <th></th>\n",
       "      <th>id</th>\n",
       "    </tr>\n",
       "  </thead>\n",
       "  <tbody>\n",
       "    <tr>\n",
       "      <th>0</th>\n",
       "      <td>17f62db2a2bcaa33</td>\n",
       "    </tr>\n",
       "    <tr>\n",
       "      <th>1</th>\n",
       "      <td>17f5db01dae6e474</td>\n",
       "    </tr>\n",
       "    <tr>\n",
       "      <th>2</th>\n",
       "      <td>17f5af6f51109a7e</td>\n",
       "    </tr>\n",
       "    <tr>\n",
       "      <th>3</th>\n",
       "      <td>17f5aea6cd97317b</td>\n",
       "    </tr>\n",
       "    <tr>\n",
       "      <th>4</th>\n",
       "      <td>17f5896710c3c5b7</td>\n",
       "    </tr>\n",
       "  </tbody>\n",
       "</table>\n",
       "</div>"
      ],
      "text/plain": [
       "                 id\n",
       "0  17f62db2a2bcaa33\n",
       "1  17f5db01dae6e474\n",
       "2  17f5af6f51109a7e\n",
       "3  17f5aea6cd97317b\n",
       "4  17f5896710c3c5b7"
      ]
     },
     "metadata": {},
     "output_type": "display_data"
    },
    {
     "name": "stdout",
     "output_type": "stream",
     "text": [
      "...and 191 more rows\n"
     ]
    }
   ],
   "source": [
    "fileName = getIDs(account.value)"
   ]
  },
  {
   "cell_type": "markdown",
   "id": "6f2c9ff5",
   "metadata": {},
   "source": [
    "#### Converting `id`s to messages\n",
    "\n",
    "Now that we have a list of `id`s, we need to to turn them into messages to tell anything usefull from them. The first part of that is prepping our files, including creating the message output `messages.csv` where all out final data will go, clearing old data, adding headers, and setting up readers and writers for our output `.csv`s.\n",
    "\n",
    ">If `messages.csv` needs to be prepped to do ___the first or a fresh take___, click this button for a clean file with a header:\n",
    "\n",
    "##### Clean `messages.csv`"
   ]
  },
  {
   "cell_type": "code",
   "execution_count": 11,
   "id": "75fe0379",
   "metadata": {},
   "outputs": [
    {
     "name": "stdout",
     "output_type": "stream",
     "text": [
      "messages.csv cleaned.\n",
      "\n"
     ]
    },
    {
     "data": {
      "application/vnd.jupyter.widget-view+json": {
       "model_id": "6483bd54179c4236963957e42de9ecc4",
       "version_major": 2,
       "version_minor": 0
      },
      "text/plain": [
       "Button(description='Clean messages.csv', style=ButtonStyle())"
      ]
     },
     "metadata": {},
     "output_type": "display_data"
    }
   ],
   "source": [
    "messageFileName = \"messages.csv\"\n",
    "\n",
    "\n",
    "def cleanMessages(b):\n",
    "    clear_output()\n",
    "    messageFile = open(messageFileName, 'w')\n",
    "    messageWriter = csv.DictWriter(messageFile, fieldnames=fields)\n",
    "    messageWriter.writeheader()\n",
    "    messageFile.close()\n",
    "    print(messageFileName, \"cleaned.\\n\")\n",
    "    display(clean)\n",
    "\n",
    "\n",
    "clean = Button(description=\"Clean \" + messageFileName)\n",
    "clean.on_click(cleanMessages)\n",
    "\n",
    "display(clean)"
   ]
  },
  {
   "cell_type": "code",
   "execution_count": 12,
   "id": "c055a498",
   "metadata": {},
   "outputs": [
    {
     "name": "stdout",
     "output_type": "stream",
     "text": [
      "Files ready. Messages will request in 10 chunks of ~20\n"
     ]
    }
   ],
   "source": [
    "IDFile = open(fileName, 'r')\n",
    "IDReader = csv.reader(IDFile, delimiter=',')\n",
    "ids = []\n",
    "\n",
    "messageFile = open(messageFileName, 'a')\n",
    "messageWriter = csv.DictWriter(messageFile, fieldnames=fields)\n",
    "\n",
    "profile = service.users().getProfile(userId='me').execute()\n",
    "\n",
    "currPercent = 0\n",
    "\n",
    "for row in IDReader:\n",
    "    ids.append(row[0])\n",
    "ids.pop(0)\n",
    "\n",
    "#chunks = 10\n",
    "\n",
    "\n",
    "def splitList(data, chunks):\n",
    "    length = len(data)\n",
    "    n = floor(length / chunks)\n",
    "\n",
    "    for i in range(0, len(data), n):\n",
    "        yield data[i:i + n]\n",
    "\n",
    "\n",
    "ids = list(splitList(ids, chunks[0]))\n",
    "idIndex = 0\n",
    "if len(ids) > chunks[0]:\n",
    "    while len(ids[-1]) != 0:\n",
    "        ids[idIndex].append(ids[-1][0])\n",
    "        ids[-1].pop(0)\n",
    "        if idIndex == chunks[0] - 1:\n",
    "            idIndex = 0\n",
    "        else:\n",
    "            idIndex += 1\n",
    "    ids.pop(-1)\n",
    "\n",
    "print('Files ready. Messages will request in ' + str(len(ids)) +\n",
    "      ' chunks of ~' + str(len(ids[0])))"
   ]
  },
  {
   "cell_type": "markdown",
   "id": "1b084c79",
   "metadata": {},
   "source": [
    "#### Ten-percent of your inbox\n",
    "\n",
    "So we're ready to to ask for all our emails with our big list all at once right? Nope! Unfortunately , with larger inboxes, the notebook times out before it can request all the emails. The solution I found was to split the list of IDs into ten evenly-divided parts, and make ten percent of the calls for the inbox in a cell at a time. It makes calls until one-hundred-percent of the messages in the `.csv` are requested.\n",
    "\n",
    "> In testing, this allowed enough time for all emails to be requested and received on an inbox with ~37,000 emails. It's best to just run all 10 cells at once and walk away -- come back after a good night's sleep and hope nothing timed out!\n",
    ">\n",
    "> If you do run into problems, the number of chunks the program splits the inbox into can be adjusted in the options near the top of the notebook. Increasing the number of chunks will decrease the number of messages requested in each cell, but will also require you to run the `tenPercent()` function again. This can be done either by adding cells or rerunning the current ones.\n",
    "\n",
    "\n",
    "\n",
    "Each message request is made with this call --\n",
    "\n",
    "``` python\n",
    "message = service.users().messages().get(userId = 'me', id = next(IDReader)[0], format = 'full').execute()\n",
    "```\n",
    "\n",
    "-- which asks the [`Gmail API`](https://developers.google.com/gmail/api/guides) to send the full information (`format = 'full'`) for the next `id` in the list (`id = next(IDReader)[0]`)."
   ]
  },
  {
   "cell_type": "code",
   "execution_count": 13,
   "id": "1fc67f92",
   "metadata": {
    "code_folding": []
   },
   "outputs": [
    {
     "name": "stdout",
     "output_type": "stream",
     "text": [
      "Ready to start requesting messages. Run the next few cells one-after-another.\n",
      "This will take a long time (hours) for inboxes with a lot of messages.\n"
     ]
    }
   ],
   "source": [
    "def convertLabels(labels):\n",
    "    string=\"\"\n",
    "    x=0\n",
    "    for item in labels:\n",
    "        if x==0:\n",
    "            string=item\n",
    "            x+=1\n",
    "        else:\n",
    "            string=string+\",\"+str(item)\n",
    "    return string\n",
    "\n",
    "\n",
    "def getMessage(message):\n",
    "\n",
    "    messageResult = {}\n",
    "    try:\n",
    "        content = message['payload']['body']['data']\n",
    "        #msg_body = base64.urlsafe_b64decode(content).decode('utf-8')\n",
    "    except:\n",
    "        content = ''\n",
    "        for part in message['payload']['parts']:\n",
    "            try:\n",
    "                #msg_part = base64.urlsafe_b64decode(part['body']['data']).decode('utf-8')\n",
    "                msg_part = part['body']['data']\n",
    "            except:\n",
    "                msg_part = \"\"\n",
    "            finally:\n",
    "                content = content + msg_part\n",
    "    msg_body = content\n",
    "    #msg_body = base64.urlsafe_b64decode(content).decode('utf-8')\n",
    "\n",
    "    messageResult['threadId'] = message['threadId']\n",
    "    messageResult['id'] = message['id']\n",
    "\n",
    "    rec = False\n",
    "\n",
    "    for header in message['payload']['headers']:\n",
    "        if header['name'] == 'Delivered-To':\n",
    "            messageResult['delivered-to'] = header['value']\n",
    "        if header['name'] == 'To':\n",
    "            messageResult['to'] = header['value']\n",
    "        if header['name'] == 'From':\n",
    "            messageResult['from'] = header['value']\n",
    "        if header['name'] == 'Received' and rec == False:\n",
    "            messageResult['received'] = header['value']\n",
    "            rec = True\n",
    "        if header['name'] == 'Subject':\n",
    "            messageResult['subject'] = header['value']\n",
    "\n",
    "    messageResult['labels'] = convertLabels(message['labelIds'])\n",
    "    messageResult['sizeEstimate'] = message['sizeEstimate']\n",
    "    messageResult['internalDate'] = message['internalDate']\n",
    "    messageResult['body'] = msg_body\n",
    "\n",
    "    return messageResult\n",
    "\n",
    "\n",
    "def tenPercent(ids, percentIndex):\n",
    "\n",
    "    print(\"%\" + str(floor((percentIndex / len(ids)) * 100)) + \" complete...\")\n",
    "\n",
    "    currIds = ids[percentIndex]\n",
    "\n",
    "    messageRepo = []\n",
    "\n",
    "    for ID in currIds:\n",
    "        try:\n",
    "            message = service.users().messages().get(userId='me',\n",
    "                                                     id=ID,\n",
    "                                                     format='full').execute()\n",
    "            messageResult = getMessage(message)\n",
    "            #print(message)\n",
    "            messageRepo.append(messageResult)\n",
    "        except Exception as e: print(e)\n",
    "\n",
    "    messageWriter.writerows(messageRepo)\n",
    "\n",
    "    percentIndex += 1\n",
    "    print(\"%\" + str(floor((percentIndex / len(ids)) * 100)) + \" complete...\")\n",
    "\n",
    "    return (percentIndex)\n",
    "\n",
    "\n",
    "print(\n",
    "    \"Ready to start requesting messages. Run the next few cells one-after-another.\\n\"\n",
    "    + \"This will take a long time (hours) for inboxes with a lot of messages.\")"
   ]
  },
  {
   "cell_type": "code",
   "execution_count": 14,
   "id": "59197bdd",
   "metadata": {},
   "outputs": [
    {
     "name": "stdout",
     "output_type": "stream",
     "text": [
      "%0 complete...\n",
      "%10 complete...\n"
     ]
    }
   ],
   "source": [
    "currPercent = tenPercent(ids,currPercent)"
   ]
  },
  {
   "cell_type": "code",
   "execution_count": 15,
   "id": "26815863",
   "metadata": {},
   "outputs": [
    {
     "name": "stdout",
     "output_type": "stream",
     "text": [
      "%10 complete...\n",
      "%20 complete...\n"
     ]
    }
   ],
   "source": [
    "currPercent = tenPercent(ids,currPercent)"
   ]
  },
  {
   "cell_type": "code",
   "execution_count": 16,
   "id": "eeeca4c7",
   "metadata": {},
   "outputs": [
    {
     "name": "stdout",
     "output_type": "stream",
     "text": [
      "%20 complete...\n",
      "%30 complete...\n"
     ]
    }
   ],
   "source": [
    "currPercent = tenPercent(ids,currPercent)"
   ]
  },
  {
   "cell_type": "code",
   "execution_count": 17,
   "id": "7f3c94b1",
   "metadata": {},
   "outputs": [
    {
     "name": "stdout",
     "output_type": "stream",
     "text": [
      "%30 complete...\n",
      "%40 complete...\n"
     ]
    }
   ],
   "source": [
    "currPercent = tenPercent(ids,currPercent)"
   ]
  },
  {
   "cell_type": "code",
   "execution_count": 18,
   "id": "ff7f06b4",
   "metadata": {},
   "outputs": [
    {
     "name": "stdout",
     "output_type": "stream",
     "text": [
      "%40 complete...\n",
      "%50 complete...\n"
     ]
    }
   ],
   "source": [
    "currPercent = tenPercent(ids,currPercent)"
   ]
  },
  {
   "cell_type": "code",
   "execution_count": 19,
   "id": "7308c38d",
   "metadata": {},
   "outputs": [
    {
     "name": "stdout",
     "output_type": "stream",
     "text": [
      "%50 complete...\n",
      "%60 complete...\n"
     ]
    }
   ],
   "source": [
    "currPercent = tenPercent(ids,currPercent)"
   ]
  },
  {
   "cell_type": "code",
   "execution_count": 20,
   "id": "00837222",
   "metadata": {},
   "outputs": [
    {
     "name": "stdout",
     "output_type": "stream",
     "text": [
      "%60 complete...\n",
      "%70 complete...\n"
     ]
    }
   ],
   "source": [
    "currPercent = tenPercent(ids,currPercent)"
   ]
  },
  {
   "cell_type": "code",
   "execution_count": 21,
   "id": "f2b28b43",
   "metadata": {},
   "outputs": [
    {
     "name": "stdout",
     "output_type": "stream",
     "text": [
      "%70 complete...\n",
      "%80 complete...\n"
     ]
    }
   ],
   "source": [
    "currPercent = tenPercent(ids,currPercent)"
   ]
  },
  {
   "cell_type": "code",
   "execution_count": 22,
   "id": "cf59e3ff",
   "metadata": {},
   "outputs": [
    {
     "name": "stdout",
     "output_type": "stream",
     "text": [
      "%80 complete...\n",
      "%90 complete...\n"
     ]
    }
   ],
   "source": [
    "currPercent = tenPercent(ids,currPercent)"
   ]
  },
  {
   "cell_type": "code",
   "execution_count": 23,
   "id": "799c42be",
   "metadata": {},
   "outputs": [
    {
     "name": "stdout",
     "output_type": "stream",
     "text": [
      "%90 complete...\n",
      "%100 complete...\n"
     ]
    }
   ],
   "source": [
    "currPercent = tenPercent(ids,currPercent)"
   ]
  },
  {
   "cell_type": "markdown",
   "id": "70a1ec78",
   "metadata": {},
   "source": [
    "#### Cleaning the data up\n",
    "\n",
    "This produces a lot of data we don't want, unfortunately. In addition to collecting the information, we make it a little easier to work with by parsing out some of the information ahead of time. The data comes in this form:\n",
    "\n",
    "```python\n",
    "{\n",
    "    \"internalDate\": \"...\", \n",
    "    \"historyId\": \"...\",\n",
    "    \"payload\": { \n",
    "        \"body\": { \n",
    "            \"data\": \"...\", \n",
    "            \"attachmentId\": \"...\", \n",
    "            \"size\": ..., \n",
    "        },\n",
    "        \"mimeType\": \"...\", \n",
    "        \"partId\": \"...\", \n",
    "        \"filename\": \"...\", \n",
    "        \"headers\": [ \n",
    "            {\n",
    "                \"name\": \"...\",\n",
    "                \"value\": \"...\",\n",
    "            }...\n",
    "        ],\n",
    "        \"parts\": [...]...\n",
    "    },\n",
    "    \"snippet\": \"...\", \n",
    "    \"sizeEstimate\": ..., \n",
    "    \"threadId\": \"...\",\n",
    "    \"labelIds\": [\"...\"...],\n",
    "    \"id\": \"...\",\n",
    "}\n",
    "```\n",
    "\n",
    "Email addresses are hidden in header tags and the content of the email is hidden away in data tags. Thankfully the data is encoded, so it uses less space, but it means that we'll need to [decode](https://docs.python.org/3/library/base64.html) it on the other end instead of here.\n",
    "\n",
    "I've turned this data into just what is useful to us. For each message we get:\n",
    "\n",
    "```python\n",
    "{\n",
    "    \"received\": \"...\",\n",
    "    \"delivered-to\": \"...\",\n",
    "    \"to\": \"...\",\n",
    "    \"from\": \"...\",\n",
    "    \"subject\": \"...\",\n",
    "    \"labels\": [\"...\"...],\n",
    "    \"sizeEstimate\": ...,\n",
    "    \"threadId\": \"...\",\n",
    "    \"internalDate\": ..., \n",
    "    \"body\": ...\n",
    "}\n",
    "```\n",
    "\n",
    "The data outputs to `messages.csv` in the notebook's `root` directory."
   ]
  },
  {
   "cell_type": "code",
   "execution_count": 24,
   "id": "ffbf336a",
   "metadata": {},
   "outputs": [
    {
     "name": "stdout",
     "output_type": "stream",
     "text": [
      "Retrieved 196 out of ~195 expected messages\n"
     ]
    },
    {
     "data": {
      "text/html": [
       "<div>\n",
       "<style scoped>\n",
       "    .dataframe tbody tr th:only-of-type {\n",
       "        vertical-align: middle;\n",
       "    }\n",
       "\n",
       "    .dataframe tbody tr th {\n",
       "        vertical-align: top;\n",
       "    }\n",
       "\n",
       "    .dataframe thead th {\n",
       "        text-align: right;\n",
       "    }\n",
       "</style>\n",
       "<table border=\"1\" class=\"dataframe\">\n",
       "  <thead>\n",
       "    <tr style=\"text-align: right;\">\n",
       "      <th></th>\n",
       "      <th>id</th>\n",
       "      <th>received</th>\n",
       "      <th>delivered-to</th>\n",
       "      <th>to</th>\n",
       "      <th>from</th>\n",
       "      <th>subject</th>\n",
       "      <th>labels</th>\n",
       "      <th>sizeEstimate</th>\n",
       "      <th>threadId</th>\n",
       "      <th>internalDate</th>\n",
       "      <th>body</th>\n",
       "    </tr>\n",
       "  </thead>\n",
       "  <tbody>\n",
       "    <tr>\n",
       "      <th>0</th>\n",
       "      <td>17f62db2a2bcaa33</td>\n",
       "      <td>by 2002:a67:f25a:0:0:0:0:0 with SMTP id y26csp...</td>\n",
       "      <td>nickesc.media@gmail.com</td>\n",
       "      <td>nickesc.media@gmail.com</td>\n",
       "      <td>Reddit &lt;noreply@redditmail.com&gt;</td>\n",
       "      <td>\"Sounds too crazy to be true.\"</td>\n",
       "      <td>UNREAD,CATEGORY_UPDATES,INBOX</td>\n",
       "      <td>95318</td>\n",
       "      <td>17f62db2a2bcaa33</td>\n",
       "      <td>1646631004000</td>\n",
       "      <td>PCFET0NUWVBFIGh0bWwgUFVCTElDICItLy9XM0MvL0RURC...</td>\n",
       "    </tr>\n",
       "    <tr>\n",
       "      <th>1</th>\n",
       "      <td>17f5db01dae6e474</td>\n",
       "      <td>by 2002:a67:f25a:0:0:0:0:0 with SMTP id y26csp...</td>\n",
       "      <td>nickesc.media@gmail.com</td>\n",
       "      <td>nickesc.media@gmail.com</td>\n",
       "      <td>Reddit &lt;noreply@redditmail.com&gt;</td>\n",
       "      <td>\"/r/WorldNews Live Thread: Russian Invasion o...\"</td>\n",
       "      <td>UNREAD,CATEGORY_UPDATES,INBOX</td>\n",
       "      <td>99578</td>\n",
       "      <td>17f5db01dae6e474</td>\n",
       "      <td>1646544296000</td>\n",
       "      <td>PCFET0NUWVBFIGh0bWwgUFVCTElDICItLy9XM0MvL0RURC...</td>\n",
       "    </tr>\n",
       "    <tr>\n",
       "      <th>2</th>\n",
       "      <td>17f5af6f51109a7e</td>\n",
       "      <td>by 2002:a67:f25a:0:0:0:0:0 with SMTP id y26csp...</td>\n",
       "      <td>nickesc.media@gmail.com</td>\n",
       "      <td>&lt;nickesc.media@gmail.com&gt;</td>\n",
       "      <td>Nintendo &lt;nintendo-noreply@nintendo.net&gt;</td>\n",
       "      <td>Hey NEscobar, you've earned reward points</td>\n",
       "      <td>CATEGORY_PROMOTIONS,UNREAD,INBOX</td>\n",
       "      <td>86807</td>\n",
       "      <td>17f5af6f51109a7e</td>\n",
       "      <td>1646498451000</td>\n",
       "      <td>DQoNCjwhRE9DVFlQRSBodG1sPg0KPGh0bWwgc3R5bGU9Ii...</td>\n",
       "    </tr>\n",
       "    <tr>\n",
       "      <th>3</th>\n",
       "      <td>17f5aea6cd97317b</td>\n",
       "      <td>by 2002:a67:f25a:0:0:0:0:0 with SMTP id y26csp...</td>\n",
       "      <td>nickesc.media@gmail.com</td>\n",
       "      <td>nickesc.media@gmail.com</td>\n",
       "      <td>Dropbox &lt;no-reply@dropbox.com&gt;</td>\n",
       "      <td>Organize your important files with folders</td>\n",
       "      <td>CATEGORY_PROMOTIONS,UNREAD,INBOX</td>\n",
       "      <td>18960</td>\n",
       "      <td>17f5aea6cd97317b</td>\n",
       "      <td>1646497786000</td>\n",
       "      <td>RHJvcGJveCBmb2xkZXJzIGtlZXBzIHlvdXIgZmlsZXMgb3...</td>\n",
       "    </tr>\n",
       "    <tr>\n",
       "      <th>4</th>\n",
       "      <td>17f5896710c3c5b7</td>\n",
       "      <td>by 2002:a67:f25a:0:0:0:0:0 with SMTP id y26csp...</td>\n",
       "      <td>nickesc.media@gmail.com</td>\n",
       "      <td>nickesc.media@gmail.com</td>\n",
       "      <td>Reddit &lt;noreply@redditmail.com&gt;</td>\n",
       "      <td>\"Vladimir Putin says Russia Has \"no ill Inten...\"</td>\n",
       "      <td>CATEGORY_PROMOTIONS,UNREAD,INBOX</td>\n",
       "      <td>110140</td>\n",
       "      <td>17f5896710c3c5b7</td>\n",
       "      <td>1646458728000</td>\n",
       "      <td>PCFET0NUWVBFIGh0bWwgUFVCTElDICItLy9XM0MvL0RURC...</td>\n",
       "    </tr>\n",
       "  </tbody>\n",
       "</table>\n",
       "</div>"
      ],
      "text/plain": [
       "                 id                                           received  \\\n",
       "0  17f62db2a2bcaa33  by 2002:a67:f25a:0:0:0:0:0 with SMTP id y26csp...   \n",
       "1  17f5db01dae6e474  by 2002:a67:f25a:0:0:0:0:0 with SMTP id y26csp...   \n",
       "2  17f5af6f51109a7e  by 2002:a67:f25a:0:0:0:0:0 with SMTP id y26csp...   \n",
       "3  17f5aea6cd97317b  by 2002:a67:f25a:0:0:0:0:0 with SMTP id y26csp...   \n",
       "4  17f5896710c3c5b7  by 2002:a67:f25a:0:0:0:0:0 with SMTP id y26csp...   \n",
       "\n",
       "              delivered-to                         to  \\\n",
       "0  nickesc.media@gmail.com    nickesc.media@gmail.com   \n",
       "1  nickesc.media@gmail.com    nickesc.media@gmail.com   \n",
       "2  nickesc.media@gmail.com  <nickesc.media@gmail.com>   \n",
       "3  nickesc.media@gmail.com    nickesc.media@gmail.com   \n",
       "4  nickesc.media@gmail.com    nickesc.media@gmail.com   \n",
       "\n",
       "                                       from  \\\n",
       "0           Reddit <noreply@redditmail.com>   \n",
       "1           Reddit <noreply@redditmail.com>   \n",
       "2  Nintendo <nintendo-noreply@nintendo.net>   \n",
       "3            Dropbox <no-reply@dropbox.com>   \n",
       "4           Reddit <noreply@redditmail.com>   \n",
       "\n",
       "                                             subject  \\\n",
       "0                     \"Sounds too crazy to be true.\"   \n",
       "1  \"/r/WorldNews Live Thread: Russian Invasion o...\"   \n",
       "2          Hey NEscobar, you've earned reward points   \n",
       "3         Organize your important files with folders   \n",
       "4  \"Vladimir Putin says Russia Has \"no ill Inten...\"   \n",
       "\n",
       "                             labels  sizeEstimate          threadId  \\\n",
       "0     UNREAD,CATEGORY_UPDATES,INBOX         95318  17f62db2a2bcaa33   \n",
       "1     UNREAD,CATEGORY_UPDATES,INBOX         99578  17f5db01dae6e474   \n",
       "2  CATEGORY_PROMOTIONS,UNREAD,INBOX         86807  17f5af6f51109a7e   \n",
       "3  CATEGORY_PROMOTIONS,UNREAD,INBOX         18960  17f5aea6cd97317b   \n",
       "4  CATEGORY_PROMOTIONS,UNREAD,INBOX        110140  17f5896710c3c5b7   \n",
       "\n",
       "    internalDate                                               body  \n",
       "0  1646631004000  PCFET0NUWVBFIGh0bWwgUFVCTElDICItLy9XM0MvL0RURC...  \n",
       "1  1646544296000  PCFET0NUWVBFIGh0bWwgUFVCTElDICItLy9XM0MvL0RURC...  \n",
       "2  1646498451000  DQoNCjwhRE9DVFlQRSBodG1sPg0KPGh0bWwgc3R5bGU9Ii...  \n",
       "3  1646497786000  RHJvcGJveCBmb2xkZXJzIGtlZXBzIHlvdXIgZmlsZXMgb3...  \n",
       "4  1646458728000  PCFET0NUWVBFIGh0bWwgUFVCTElDICItLy9XM0MvL0RURC...  "
      ]
     },
     "execution_count": 24,
     "metadata": {},
     "output_type": "execute_result"
    }
   ],
   "source": [
    "IDFile.close()\n",
    "messageFile.close()\n",
    "\n",
    "inboxes = pd.read_csv(messageFileName)\n",
    "\n",
    "messageCount = len(inboxes)\n",
    "\n",
    "print(\"Retrieved \" + str(messageCount) + \" out of ~\" +\n",
    "      str(profile[\"messagesTotal\"]) + \" expected messages\")\n",
    "\n",
    "inboxes.head()"
   ]
  },
  {
   "cell_type": "markdown",
   "id": "a9ca1770",
   "metadata": {},
   "source": [
    "### References\n",
    "\n",
    "[Extracting Metadata from Medium Daily Digest Newsletters via Gmail API](https://towardsdatascience.com/extracting-metadata-from-medium-daily-digest-newsletters-via-gmail-api-97eee890a439) by [Sejal Dua](https://sejaldua.medium.com/)\n",
    "\n",
    "[`Gmail API Dodumentation`](https://developers.google.com/gmail/api/guides)\n",
    "\n",
    "[`Gmail API Python Dodumentation`](https://developers.google.com/resources/api-libraries/documentation/gmail/v1/python/latest/index.html)\n",
    "\n",
    "[`ipywidgets Dodumentation`](https://ipywidgets.readthedocs.io/en/stable/)\n",
    "\n",
    "[`tkinter Dodumentation`](https://docs.python.org/3/library/tk.html)"
   ]
  }
 ],
 "metadata": {
  "kernelspec": {
   "display_name": "Python 3 (ipykernel)",
   "language": "python",
   "name": "python3"
  },
  "language_info": {
   "codemirror_mode": {
    "name": "ipython",
    "version": 3
   },
   "file_extension": ".py",
   "mimetype": "text/x-python",
   "name": "python",
   "nbconvert_exporter": "python",
   "pygments_lexer": "ipython3",
   "version": "3.9.7"
  },
  "toc": {
   "base_numbering": 1,
   "nav_menu": {},
   "number_sections": false,
   "sideBar": true,
   "skip_h1_title": false,
   "title_cell": "Table of Contents",
   "title_sidebar": "Contents",
   "toc_cell": false,
   "toc_position": {},
   "toc_section_display": true,
   "toc_window_display": false
  },
  "varInspector": {
   "cols": {
    "lenName": 16,
    "lenType": 16,
    "lenVar": 40
   },
   "kernels_config": {
    "python": {
     "delete_cmd_postfix": "",
     "delete_cmd_prefix": "del ",
     "library": "var_list.py",
     "varRefreshCmd": "print(var_dic_list())"
    },
    "r": {
     "delete_cmd_postfix": ") ",
     "delete_cmd_prefix": "rm(",
     "library": "var_list.r",
     "varRefreshCmd": "cat(var_dic_list()) "
    }
   },
   "types_to_exclude": [
    "module",
    "function",
    "builtin_function_or_method",
    "instance",
    "_Feature"
   ],
   "window_display": false
  }
 },
 "nbformat": 4,
 "nbformat_minor": 5
}
